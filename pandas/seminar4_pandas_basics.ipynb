{
 "cells": [
  {
   "cell_type": "markdown",
   "metadata": {},
   "source": [
    "# Семинар 4. Основы работы с pandas"
   ]
  },
  {
   "attachments": {},
   "cell_type": "markdown",
   "metadata": {},
   "source": [
    "На этом занятии мы исследуем данные о морских портах России с помощью пакета `pandas`.\n",
    "\n",
    "Данные загружены с портала открытых данных http://hubofdata.ru/dataset/esimo_ru_cniimf_27"
   ]
  },
  {
   "cell_type": "code",
   "execution_count": 2,
   "metadata": {},
   "outputs": [],
   "source": [
    "import pandas as pd\n",
    "import numpy as np\n",
    "%matplotlib inline"
   ]
  },
  {
   "cell_type": "code",
   "execution_count": 8,
   "metadata": {},
   "outputs": [],
   "source": [
    "ports = pd.read_excel('../datasets/ports_subset.xlsx') # характеристики портов\n",
    "var_info = pd.read_excel('../datasets/ports_subset.xlsx', sheet_name=1) # описание переменных"
   ]
  },
  {
   "cell_type": "markdown",
   "metadata": {},
   "source": [
    "Для начала, познакомимся с данными."
   ]
  },
  {
   "cell_type": "code",
   "execution_count": 13,
   "metadata": {},
   "outputs": [
    {
     "data": {
      "text/html": [
       "<div>\n",
       "<style scoped>\n",
       "    .dataframe tbody tr th:only-of-type {\n",
       "        vertical-align: middle;\n",
       "    }\n",
       "\n",
       "    .dataframe tbody tr th {\n",
       "        vertical-align: top;\n",
       "    }\n",
       "\n",
       "    .dataframe thead th {\n",
       "        text-align: right;\n",
       "    }\n",
       "</style>\n",
       "<table border=\"1\" class=\"dataframe\">\n",
       "  <thead>\n",
       "    <tr style=\"text-align: right;\">\n",
       "      <th></th>\n",
       "      <th>Port</th>\n",
       "      <th>Sea</th>\n",
       "      <th>Region</th>\n",
       "      <th>Latitude</th>\n",
       "      <th>Longitude</th>\n",
       "      <th>Description</th>\n",
       "      <th>DaysNavigation</th>\n",
       "      <th>MonthFirstIce</th>\n",
       "      <th>MonthStableIce</th>\n",
       "      <th>MonthIceMeltingStart</th>\n",
       "      <th>...</th>\n",
       "      <th>TrafficSeparationSystem</th>\n",
       "      <th>VesselTrackingManagementSystem</th>\n",
       "      <th>PassengerTerminalType</th>\n",
       "      <th>WaterArea</th>\n",
       "      <th>ShelteredStorageArea</th>\n",
       "      <th>UnshelteredStorageArea</th>\n",
       "      <th>PortArea</th>\n",
       "      <th>CapacityContainers</th>\n",
       "      <th>CapacityLiquidBulkTerminal</th>\n",
       "      <th>CapacityDryBulkTerminal</th>\n",
       "    </tr>\n",
       "  </thead>\n",
       "  <tbody>\n",
       "    <tr>\n",
       "      <th>0</th>\n",
       "      <td>Выборг</td>\n",
       "      <td>Балтийское</td>\n",
       "      <td>Запад</td>\n",
       "      <td>60.708912</td>\n",
       "      <td>28.733285</td>\n",
       "      <td>центр г. Выборг, побережье Выборгского залива</td>\n",
       "      <td>365</td>\n",
       "      <td>12.0</td>\n",
       "      <td>12.0</td>\n",
       "      <td>4.0</td>\n",
       "      <td>...</td>\n",
       "      <td>Н</td>\n",
       "      <td>Д</td>\n",
       "      <td>местный</td>\n",
       "      <td>2.87</td>\n",
       "      <td>3.70</td>\n",
       "      <td>39.80</td>\n",
       "      <td>16.66</td>\n",
       "      <td>6.0</td>\n",
       "      <td>70.0</td>\n",
       "      <td>1420.0</td>\n",
       "    </tr>\n",
       "    <tr>\n",
       "      <th>1</th>\n",
       "      <td>Высоцк</td>\n",
       "      <td>Балтийское</td>\n",
       "      <td>Запад</td>\n",
       "      <td>60.617813</td>\n",
       "      <td>28.563421</td>\n",
       "      <td>о. Высоцкий в Выборгском заливе</td>\n",
       "      <td>365</td>\n",
       "      <td>12.0</td>\n",
       "      <td>12.0</td>\n",
       "      <td>4.0</td>\n",
       "      <td>...</td>\n",
       "      <td>Д</td>\n",
       "      <td>Д</td>\n",
       "      <td>NaN</td>\n",
       "      <td>1.26</td>\n",
       "      <td>NaN</td>\n",
       "      <td>81.00</td>\n",
       "      <td>143.60</td>\n",
       "      <td>NaN</td>\n",
       "      <td>12500.0</td>\n",
       "      <td>4500.0</td>\n",
       "    </tr>\n",
       "    <tr>\n",
       "      <th>2</th>\n",
       "      <td>Калининград</td>\n",
       "      <td>Балтийское</td>\n",
       "      <td>Запад</td>\n",
       "      <td>54.702594</td>\n",
       "      <td>20.467366</td>\n",
       "      <td>устье р. Преголя в юго-восточной части Балтийс...</td>\n",
       "      <td>365</td>\n",
       "      <td>NaN</td>\n",
       "      <td>NaN</td>\n",
       "      <td>NaN</td>\n",
       "      <td>...</td>\n",
       "      <td>Д</td>\n",
       "      <td>Д</td>\n",
       "      <td>паромный</td>\n",
       "      <td>17.73</td>\n",
       "      <td>162.87</td>\n",
       "      <td>509.20</td>\n",
       "      <td>832.36</td>\n",
       "      <td>448.0</td>\n",
       "      <td>18320.0</td>\n",
       "      <td>16383.2</td>\n",
       "    </tr>\n",
       "    <tr>\n",
       "      <th>3</th>\n",
       "      <td>Приморск</td>\n",
       "      <td>Балтийское</td>\n",
       "      <td>Запад</td>\n",
       "      <td>60.335655</td>\n",
       "      <td>28.715618</td>\n",
       "      <td>юго-восточная часть пролива Бъёркезунд Финског...</td>\n",
       "      <td>365</td>\n",
       "      <td>12.0</td>\n",
       "      <td>12.0</td>\n",
       "      <td>4.0</td>\n",
       "      <td>...</td>\n",
       "      <td>Д</td>\n",
       "      <td>Д</td>\n",
       "      <td>NaN</td>\n",
       "      <td>31.36</td>\n",
       "      <td>NaN</td>\n",
       "      <td>NaN</td>\n",
       "      <td>246.85</td>\n",
       "      <td>NaN</td>\n",
       "      <td>108400.0</td>\n",
       "      <td>NaN</td>\n",
       "    </tr>\n",
       "    <tr>\n",
       "      <th>4</th>\n",
       "      <td>Большой порт Санкт-Петербург</td>\n",
       "      <td>Балтийское</td>\n",
       "      <td>Запад</td>\n",
       "      <td>59.895170</td>\n",
       "      <td>30.218395</td>\n",
       "      <td>острова дельты р. Невы в Невской губе в восточ...</td>\n",
       "      <td>365</td>\n",
       "      <td>11.0</td>\n",
       "      <td>12.0</td>\n",
       "      <td>3.0</td>\n",
       "      <td>...</td>\n",
       "      <td>Д</td>\n",
       "      <td>Д</td>\n",
       "      <td>круизный</td>\n",
       "      <td>628.90</td>\n",
       "      <td>153.62</td>\n",
       "      <td>2265.47</td>\n",
       "      <td>528.47</td>\n",
       "      <td>3010.2</td>\n",
       "      <td>17773.8</td>\n",
       "      <td>32425.8</td>\n",
       "    </tr>\n",
       "  </tbody>\n",
       "</table>\n",
       "<p>5 rows × 28 columns</p>\n",
       "</div>"
      ],
      "text/plain": [
       "                           Port         Sea Region   Latitude  Longitude  \\\n",
       "0                        Выборг  Балтийское  Запад  60.708912  28.733285   \n",
       "1                        Высоцк  Балтийское  Запад  60.617813  28.563421   \n",
       "2                   Калининград  Балтийское  Запад  54.702594  20.467366   \n",
       "3                      Приморск  Балтийское  Запад  60.335655  28.715618   \n",
       "4  Большой порт Санкт-Петербург  Балтийское  Запад  59.895170  30.218395   \n",
       "\n",
       "                                         Description  DaysNavigation  \\\n",
       "0      центр г. Выборг, побережье Выборгского залива             365   \n",
       "1                    о. Высоцкий в Выборгском заливе             365   \n",
       "2  устье р. Преголя в юго-восточной части Балтийс...             365   \n",
       "3  юго-восточная часть пролива Бъёркезунд Финског...             365   \n",
       "4  острова дельты р. Невы в Невской губе в восточ...             365   \n",
       "\n",
       "   MonthFirstIce  MonthStableIce  MonthIceMeltingStart  ...  \\\n",
       "0           12.0            12.0                   4.0  ...   \n",
       "1           12.0            12.0                   4.0  ...   \n",
       "2            NaN             NaN                   NaN  ...   \n",
       "3           12.0            12.0                   4.0  ...   \n",
       "4           11.0            12.0                   3.0  ...   \n",
       "\n",
       "   TrafficSeparationSystem VesselTrackingManagementSystem  \\\n",
       "0                        Н                              Д   \n",
       "1                        Д                              Д   \n",
       "2                        Д                              Д   \n",
       "3                        Д                              Д   \n",
       "4                        Д                              Д   \n",
       "\n",
       "  PassengerTerminalType  WaterArea  ShelteredStorageArea  \\\n",
       "0               местный       2.87                  3.70   \n",
       "1                   NaN       1.26                   NaN   \n",
       "2              паромный      17.73                162.87   \n",
       "3                   NaN      31.36                   NaN   \n",
       "4              круизный     628.90                153.62   \n",
       "\n",
       "   UnshelteredStorageArea  PortArea CapacityContainers  \\\n",
       "0                   39.80     16.66                6.0   \n",
       "1                   81.00    143.60                NaN   \n",
       "2                  509.20    832.36              448.0   \n",
       "3                     NaN    246.85                NaN   \n",
       "4                 2265.47    528.47             3010.2   \n",
       "\n",
       "  CapacityLiquidBulkTerminal CapacityDryBulkTerminal  \n",
       "0                       70.0                  1420.0  \n",
       "1                    12500.0                  4500.0  \n",
       "2                    18320.0                 16383.2  \n",
       "3                   108400.0                     NaN  \n",
       "4                    17773.8                 32425.8  \n",
       "\n",
       "[5 rows x 28 columns]"
      ]
     },
     "execution_count": 13,
     "metadata": {},
     "output_type": "execute_result"
    }
   ],
   "source": [
    "ports.head(5)"
   ]
  },
  {
   "cell_type": "markdown",
   "metadata": {},
   "source": [
    "Сводка по таблице данных показывает, что числа загрузились нормально, но в некоторых столбцах есть пропущенные значения (в таблице они отображаются как `NaN` - Not a Number)"
   ]
  },
  {
   "cell_type": "code",
   "execution_count": 11,
   "metadata": {},
   "outputs": [
    {
     "name": "stdout",
     "output_type": "stream",
     "text": [
      "<class 'pandas.core.frame.DataFrame'>\n",
      "RangeIndex: 56 entries, 0 to 55\n",
      "Data columns (total 28 columns):\n",
      " #   Column                          Non-Null Count  Dtype  \n",
      "---  ------                          --------------  -----  \n",
      " 0   Port                            56 non-null     object \n",
      " 1   Sea                             56 non-null     object \n",
      " 2   Region                          56 non-null     object \n",
      " 3   Latitude                        56 non-null     float64\n",
      " 4   Longitude                       56 non-null     float64\n",
      " 5   Description                     56 non-null     object \n",
      " 6   DaysNavigation                  56 non-null     int64  \n",
      " 7   MonthFirstIce                   44 non-null     float64\n",
      " 8   MonthStableIce                  44 non-null     float64\n",
      " 9   MonthIceMeltingStart            44 non-null     float64\n",
      " 10  MonthClearWater                 44 non-null     float64\n",
      " 11  OilTerminal                     56 non-null     object \n",
      " 12  OperatorShortName               56 non-null     object \n",
      " 13  QuayageLength                   56 non-null     float64\n",
      " 14  QuayageLengthRMP                56 non-null     float64\n",
      " 15  HeavyTonnageShipsFraction       56 non-null     float64\n",
      " 16  NumberOfBerths                  56 non-null     int64  \n",
      " 17  RescueService                   32 non-null     object \n",
      " 18  TrafficSeparationSystem         56 non-null     object \n",
      " 19  VesselTrackingManagementSystem  56 non-null     object \n",
      " 20  PassengerTerminalType           39 non-null     object \n",
      " 21  WaterArea                       56 non-null     float64\n",
      " 22  ShelteredStorageArea            44 non-null     float64\n",
      " 23  UnshelteredStorageArea          48 non-null     float64\n",
      " 24  PortArea                        56 non-null     float64\n",
      " 25  CapacityContainers              32 non-null     float64\n",
      " 26  CapacityLiquidBulkTerminal      37 non-null     float64\n",
      " 27  CapacityDryBulkTerminal         50 non-null     float64\n",
      "dtypes: float64(16), int64(2), object(10)\n",
      "memory usage: 12.4+ KB\n"
     ]
    }
   ],
   "source": [
    "ports.info()"
   ]
  },
  {
   "cell_type": "markdown",
   "metadata": {},
   "source": [
    "Для справки можем использовать вспомогательную таблицу с расшифровкой названий столбцов"
   ]
  },
  {
   "cell_type": "code",
   "execution_count": 7,
   "metadata": {},
   "outputs": [
    {
     "data": {
      "text/html": [
       "<div>\n",
       "<style scoped>\n",
       "    .dataframe tbody tr th:only-of-type {\n",
       "        vertical-align: middle;\n",
       "    }\n",
       "\n",
       "    .dataframe tbody tr th {\n",
       "        vertical-align: top;\n",
       "    }\n",
       "\n",
       "    .dataframe thead th {\n",
       "        text-align: right;\n",
       "    }\n",
       "</style>\n",
       "<table border=\"1\" class=\"dataframe\">\n",
       "  <thead>\n",
       "    <tr style=\"text-align: right;\">\n",
       "      <th></th>\n",
       "      <th>Column</th>\n",
       "      <th>Description</th>\n",
       "    </tr>\n",
       "  </thead>\n",
       "  <tbody>\n",
       "    <tr>\n",
       "      <th>0</th>\n",
       "      <td>Port</td>\n",
       "      <td>Наименование порта</td>\n",
       "    </tr>\n",
       "    <tr>\n",
       "      <th>1</th>\n",
       "      <td>Sea</td>\n",
       "      <td>Акватория порта</td>\n",
       "    </tr>\n",
       "    <tr>\n",
       "      <th>2</th>\n",
       "      <td>Region</td>\n",
       "      <td>Регион порта (укрупненный геообъект)</td>\n",
       "    </tr>\n",
       "    <tr>\n",
       "      <th>3</th>\n",
       "      <td>Latitude</td>\n",
       "      <td>Широта точки (град., дес.доли град)</td>\n",
       "    </tr>\n",
       "    <tr>\n",
       "      <th>4</th>\n",
       "      <td>Longitude</td>\n",
       "      <td>Долгота точки (град., дес.доли град)</td>\n",
       "    </tr>\n",
       "    <tr>\n",
       "      <th>5</th>\n",
       "      <td>Description</td>\n",
       "      <td>Описание</td>\n",
       "    </tr>\n",
       "    <tr>\n",
       "      <th>6</th>\n",
       "      <td>DaysNavigation</td>\n",
       "      <td>Продолжительность навигации в днях</td>\n",
       "    </tr>\n",
       "    <tr>\n",
       "      <th>7</th>\n",
       "      <td>MonthFirstIce</td>\n",
       "      <td>Первое появление льда</td>\n",
       "    </tr>\n",
       "    <tr>\n",
       "      <th>8</th>\n",
       "      <td>MonthStableIce</td>\n",
       "      <td>Устойчивое ледообразование</td>\n",
       "    </tr>\n",
       "    <tr>\n",
       "      <th>9</th>\n",
       "      <td>MonthIceMeltingStart</td>\n",
       "      <td>Начало таяния</td>\n",
       "    </tr>\n",
       "    <tr>\n",
       "      <th>10</th>\n",
       "      <td>MonthClearWater</td>\n",
       "      <td>Очищение акватории</td>\n",
       "    </tr>\n",
       "    <tr>\n",
       "      <th>11</th>\n",
       "      <td>OilTerminal</td>\n",
       "      <td>Наличие нефтеналивного терминала в порту</td>\n",
       "    </tr>\n",
       "    <tr>\n",
       "      <th>12</th>\n",
       "      <td>OperatorShortName</td>\n",
       "      <td>Краткое название организации-оператора</td>\n",
       "    </tr>\n",
       "    <tr>\n",
       "      <th>13</th>\n",
       "      <td>QuayageLength</td>\n",
       "      <td>Длина причального фронта, м</td>\n",
       "    </tr>\n",
       "    <tr>\n",
       "      <th>14</th>\n",
       "      <td>QuayageLengthRMP</td>\n",
       "      <td>Длина причального фронта по РМП, м</td>\n",
       "    </tr>\n",
       "    <tr>\n",
       "      <th>15</th>\n",
       "      <td>HeavyTonnageShipsFraction</td>\n",
       "      <td>Доля крупнотоннажных судов</td>\n",
       "    </tr>\n",
       "    <tr>\n",
       "      <th>16</th>\n",
       "      <td>NumberOfBerths</td>\n",
       "      <td>Количество причалов</td>\n",
       "    </tr>\n",
       "    <tr>\n",
       "      <th>17</th>\n",
       "      <td>RescueService</td>\n",
       "      <td>Наличие аварийно-спасательной организации (АСО...</td>\n",
       "    </tr>\n",
       "    <tr>\n",
       "      <th>18</th>\n",
       "      <td>TrafficSeparationSystem</td>\n",
       "      <td>Наличие системы разделения движения судов (СРД...</td>\n",
       "    </tr>\n",
       "    <tr>\n",
       "      <th>19</th>\n",
       "      <td>VesselTrackingManagementSystem</td>\n",
       "      <td>Наличие Системы управления движением судов (СУДС)</td>\n",
       "    </tr>\n",
       "    <tr>\n",
       "      <th>20</th>\n",
       "      <td>PassengerTerminalType</td>\n",
       "      <td>Тип пассажирского терминала</td>\n",
       "    </tr>\n",
       "    <tr>\n",
       "      <th>21</th>\n",
       "      <td>WaterArea</td>\n",
       "      <td>Площадь акватории, кв. км</td>\n",
       "    </tr>\n",
       "    <tr>\n",
       "      <th>22</th>\n",
       "      <td>ShelteredStorageArea</td>\n",
       "      <td>Площадь крытых складов, тыс. кв. м</td>\n",
       "    </tr>\n",
       "    <tr>\n",
       "      <th>23</th>\n",
       "      <td>UnshelteredStorageArea</td>\n",
       "      <td>Площадь открытых складов, тыс. кв. м</td>\n",
       "    </tr>\n",
       "    <tr>\n",
       "      <th>24</th>\n",
       "      <td>PortArea</td>\n",
       "      <td>Площадь территории, га</td>\n",
       "    </tr>\n",
       "    <tr>\n",
       "      <th>25</th>\n",
       "      <td>CapacityContainers</td>\n",
       "      <td>Пропускная способность контейнерных терминалов...</td>\n",
       "    </tr>\n",
       "    <tr>\n",
       "      <th>26</th>\n",
       "      <td>CapacityLiquidBulkTerminal</td>\n",
       "      <td>Пропускная способность наливных терминалов, ты...</td>\n",
       "    </tr>\n",
       "    <tr>\n",
       "      <th>27</th>\n",
       "      <td>CapacityDryBulkTerminal</td>\n",
       "      <td>Пропускная способность сухих терминалов, тыс. ...</td>\n",
       "    </tr>\n",
       "  </tbody>\n",
       "</table>\n",
       "</div>"
      ],
      "text/plain": [
       "                            Column  \\\n",
       "0                             Port   \n",
       "1                              Sea   \n",
       "2                           Region   \n",
       "3                         Latitude   \n",
       "4                        Longitude   \n",
       "5                      Description   \n",
       "6                   DaysNavigation   \n",
       "7                    MonthFirstIce   \n",
       "8                   MonthStableIce   \n",
       "9             MonthIceMeltingStart   \n",
       "10                 MonthClearWater   \n",
       "11                     OilTerminal   \n",
       "12               OperatorShortName   \n",
       "13                   QuayageLength   \n",
       "14                QuayageLengthRMP   \n",
       "15       HeavyTonnageShipsFraction   \n",
       "16                  NumberOfBerths   \n",
       "17                   RescueService   \n",
       "18         TrafficSeparationSystem   \n",
       "19  VesselTrackingManagementSystem   \n",
       "20           PassengerTerminalType   \n",
       "21                       WaterArea   \n",
       "22            ShelteredStorageArea   \n",
       "23          UnshelteredStorageArea   \n",
       "24                        PortArea   \n",
       "25              CapacityContainers   \n",
       "26      CapacityLiquidBulkTerminal   \n",
       "27         CapacityDryBulkTerminal   \n",
       "\n",
       "                                          Description  \n",
       "0                                  Наименование порта  \n",
       "1                                     Акватория порта  \n",
       "2                Регион порта (укрупненный геообъект)  \n",
       "3                 Широта точки (град., дес.доли град)  \n",
       "4                Долгота точки (град., дес.доли град)  \n",
       "5                                            Описание  \n",
       "6                  Продолжительность навигации в днях  \n",
       "7                               Первое появление льда  \n",
       "8                          Устойчивое ледообразование  \n",
       "9                                       Начало таяния  \n",
       "10                                 Очищение акватории  \n",
       "11           Наличие нефтеналивного терминала в порту  \n",
       "12             Краткое название организации-оператора  \n",
       "13                        Длина причального фронта, м  \n",
       "14                 Длина причального фронта по РМП, м  \n",
       "15                         Доля крупнотоннажных судов  \n",
       "16                                Количество причалов  \n",
       "17  Наличие аварийно-спасательной организации (АСО...  \n",
       "18  Наличие системы разделения движения судов (СРД...  \n",
       "19  Наличие Системы управления движением судов (СУДС)  \n",
       "20                        Тип пассажирского терминала  \n",
       "21                          Площадь акватории, кв. км  \n",
       "22                 Площадь крытых складов, тыс. кв. м  \n",
       "23               Площадь открытых складов, тыс. кв. м  \n",
       "24                             Площадь территории, га  \n",
       "25  Пропускная способность контейнерных терминалов...  \n",
       "26  Пропускная способность наливных терминалов, ты...  \n",
       "27  Пропускная способность сухих терминалов, тыс. ...  "
      ]
     },
     "execution_count": 7,
     "metadata": {},
     "output_type": "execute_result"
    }
   ],
   "source": [
    "var_info"
   ]
  },
  {
   "cell_type": "markdown",
   "metadata": {},
   "source": [
    "## Задача 1. Выборка столбцов\n",
    "\n",
    "1.1. Выведите таблицу с тремя столбцами: порт, акватория порта, площадь территории, пропускная способность контейнерных терминалов."
   ]
  },
  {
   "cell_type": "code",
   "execution_count": 102,
   "metadata": {},
   "outputs": [],
   "source": [
    "# Ваш код здесь"
   ]
  },
  {
   "cell_type": "markdown",
   "metadata": {},
   "source": [
    "1.2. Выведите таблицу со всеми столбцами начиная от `Port` до `DaysNavigation`"
   ]
  },
  {
   "cell_type": "code",
   "execution_count": 101,
   "metadata": {},
   "outputs": [],
   "source": [
    "# Ваш код здесь"
   ]
  },
  {
   "cell_type": "markdown",
   "metadata": {},
   "source": [
    "1.3. Выведите таблицу со столбцами от `Port` до `DaysNavigation`, включающие записи с 10 по 19."
   ]
  },
  {
   "cell_type": "code",
   "execution_count": 103,
   "metadata": {},
   "outputs": [],
   "source": [
    "# Ваш код здесь"
   ]
  },
  {
   "cell_type": "markdown",
   "metadata": {},
   "source": [
    "## Задача 2. Фильтрация данных по условию"
   ]
  },
  {
   "cell_type": "markdown",
   "metadata": {},
   "source": [
    "2.1. Выведите таблицу с названиями и координатами портов на Балтике. Данные можно отобрать по столбцу Акватория порта (`Sea`). \n",
    "\n",
    "**Подсказка:** Посмотреть, какие названия акватории используются в данных, удобно использовать метод `unique()` столбца."
   ]
  },
  {
   "cell_type": "code",
   "execution_count": 27,
   "metadata": {},
   "outputs": [],
   "source": [
    "# Ваш код здесь"
   ]
  },
  {
   "cell_type": "markdown",
   "metadata": {},
   "source": [
    "2.2. Выведите таблицу с данными о портах, которые имеют круглогодичную навигацию и имеют контейнерный терминал. В таблице должны быть название и акватория порта, а также столбцы, по которым вы отбирали данные."
   ]
  },
  {
   "cell_type": "code",
   "execution_count": 29,
   "metadata": {},
   "outputs": [],
   "source": [
    "# Ваш код здесь"
   ]
  },
  {
   "cell_type": "markdown",
   "metadata": {},
   "source": [
    "2.3. Выведите таблицу с данными о портах, в описании которых упоминается Сахалин (название, акватория, описание, широта и долгота)"
   ]
  },
  {
   "cell_type": "code",
   "execution_count": 30,
   "metadata": {},
   "outputs": [],
   "source": [
    "# Ваш код здесь"
   ]
  },
  {
   "cell_type": "markdown",
   "metadata": {},
   "source": [
    "## Задача 3. Вычисления"
   ]
  },
  {
   "cell_type": "markdown",
   "metadata": {},
   "source": [
    "3.1. В столбцах таблицы с мощностью портов по переработке контейнеров, сухих и жидких грузов есть пропущенные значения. Если попытаться использовать их в расчета, то результат тоже будет пустым значением. Замените пустые значения в этих столбцах на 0.\n",
    "\n",
    "**Подсказка:** у рядов и таблиц данных есть метод `fillna()`, который позволяет заменить пропуски на указанное значение. \n",
    "Еще один способ - использовать условное вычисление и метод `replace()` столбца или таблицы. Заменять нужно пустые значения, которые в `pandas` обозначаются `np.nan`\n",
    "\n",
    "**Еще подсказка:** Срезы в `pandas`, как и в `numpy`, работают как на чтение, так и на запись. Поэтому, если подумать, то можно заменить пустые значения во всех столбцах с мощностью портов сразу."
   ]
  },
  {
   "cell_type": "code",
   "execution_count": 39,
   "metadata": {},
   "outputs": [],
   "source": [
    "# Ваш код здесь"
   ]
  },
  {
   "cell_type": "markdown",
   "metadata": {},
   "source": [
    "3.2. Рассчитайте столбец `TotalCapacity` с общей мощностью портов. Мощности по сухим и жидким грузам даны в тысячах тонн в год, а по контейнерам - в  тысячах в год контейнеров. Чтобы рассчитать общую мощность в тоннах / год, примем, что вес одного контейнера равен 20 тоннам."
   ]
  },
  {
   "cell_type": "code",
   "execution_count": 54,
   "metadata": {},
   "outputs": [],
   "source": [
    "# Ваш код здесь"
   ]
  },
  {
   "cell_type": "markdown",
   "metadata": {},
   "source": [
    "## Задача 4. Сортировка и ранжирование\n",
    "\n",
    "\n",
    "4.1. Выведите рейтинг балтийских портов по убыванию общей мощности"
   ]
  },
  {
   "cell_type": "code",
   "execution_count": 64,
   "metadata": {},
   "outputs": [],
   "source": [
    "# Ваш код здесь"
   ]
  },
  {
   "cell_type": "code",
   "execution_count": 63,
   "metadata": {},
   "outputs": [
    {
     "data": {
      "text/html": [
       "<div>\n",
       "<style scoped>\n",
       "    .dataframe tbody tr th:only-of-type {\n",
       "        vertical-align: middle;\n",
       "    }\n",
       "\n",
       "    .dataframe tbody tr th {\n",
       "        vertical-align: top;\n",
       "    }\n",
       "\n",
       "    .dataframe thead th {\n",
       "        text-align: right;\n",
       "    }\n",
       "</style>\n",
       "<table border=\"1\" class=\"dataframe\">\n",
       "  <thead>\n",
       "    <tr style=\"text-align: right;\">\n",
       "      <th></th>\n",
       "      <th>Port</th>\n",
       "      <th>Region</th>\n",
       "      <th>Sea</th>\n",
       "      <th>TotalCapacity</th>\n",
       "    </tr>\n",
       "  </thead>\n",
       "  <tbody>\n",
       "    <tr>\n",
       "      <th>4</th>\n",
       "      <td>Большой порт Санкт-Петербург</td>\n",
       "      <td>Запад</td>\n",
       "      <td>Балтийское</td>\n",
       "      <td>110403.6</td>\n",
       "    </tr>\n",
       "    <tr>\n",
       "      <th>3</th>\n",
       "      <td>Приморск</td>\n",
       "      <td>Запад</td>\n",
       "      <td>Балтийское</td>\n",
       "      <td>108400.0</td>\n",
       "    </tr>\n",
       "    <tr>\n",
       "      <th>2</th>\n",
       "      <td>Калининград</td>\n",
       "      <td>Запад</td>\n",
       "      <td>Балтийское</td>\n",
       "      <td>43663.2</td>\n",
       "    </tr>\n",
       "    <tr>\n",
       "      <th>6</th>\n",
       "      <td>Усть-Луга</td>\n",
       "      <td>Запад</td>\n",
       "      <td>Балтийское</td>\n",
       "      <td>31639.3</td>\n",
       "    </tr>\n",
       "    <tr>\n",
       "      <th>1</th>\n",
       "      <td>Высоцк</td>\n",
       "      <td>Запад</td>\n",
       "      <td>Балтийское</td>\n",
       "      <td>17000.0</td>\n",
       "    </tr>\n",
       "    <tr>\n",
       "      <th>0</th>\n",
       "      <td>Выборг</td>\n",
       "      <td>Запад</td>\n",
       "      <td>Балтийское</td>\n",
       "      <td>1610.0</td>\n",
       "    </tr>\n",
       "    <tr>\n",
       "      <th>5</th>\n",
       "      <td>Пассажирский порт Санкт-Петербург</td>\n",
       "      <td>Запад</td>\n",
       "      <td>Балтийское</td>\n",
       "      <td>0.0</td>\n",
       "    </tr>\n",
       "  </tbody>\n",
       "</table>\n",
       "</div>"
      ],
      "text/plain": [
       "                                Port Region         Sea  TotalCapacity\n",
       "4       Большой порт Санкт-Петербург  Запад  Балтийское       110403.6\n",
       "3                           Приморск  Запад  Балтийское       108400.0\n",
       "2                        Калининград  Запад  Балтийское        43663.2\n",
       "6                          Усть-Луга  Запад  Балтийское        31639.3\n",
       "1                             Высоцк  Запад  Балтийское        17000.0\n",
       "0                             Выборг  Запад  Балтийское         1610.0\n",
       "5  Пассажирский порт Санкт-Петербург  Запад  Балтийское            0.0"
      ]
     },
     "execution_count": 63,
     "metadata": {},
     "output_type": "execute_result"
    }
   ],
   "source": [
    "ports2.sort_values('TotalCapacity', ascending=False).query(\"Sea == 'Балтийское'\")[['Port', 'Region', 'Sea', 'TotalCapacity']]"
   ]
  },
  {
   "cell_type": "markdown",
   "metadata": {},
   "source": [
    "4.2. Составьте рейтинг портов для каждого региона (`Region`) по убыванию общей мощности. Названия регионов должны быть упорядочены по возрастанию."
   ]
  },
  {
   "cell_type": "code",
   "execution_count": 65,
   "metadata": {},
   "outputs": [],
   "source": [
    "# Ваш код здесь"
   ]
  },
  {
   "cell_type": "markdown",
   "metadata": {},
   "source": [
    "4.3. Выведите данные о пяти самых северных портах"
   ]
  },
  {
   "cell_type": "code",
   "execution_count": 71,
   "metadata": {},
   "outputs": [],
   "source": [
    "# Ваш код здесь"
   ]
  },
  {
   "cell_type": "markdown",
   "metadata": {},
   "source": [
    "4.4. Добавьте в таблицу столбец с рангом всех портов по убыванию площади акватории."
   ]
  },
  {
   "cell_type": "code",
   "execution_count": 75,
   "metadata": {},
   "outputs": [],
   "source": [
    "# Ваш код здесь"
   ]
  },
  {
   "cell_type": "markdown",
   "metadata": {},
   "source": [
    "## Задача 5. Описательная статистика"
   ]
  },
  {
   "cell_type": "markdown",
   "metadata": {},
   "source": [
    "5.1. Рассчитайте сводку с описательными статистиками для всех столбцов от `QuayageLength` до `TotalCapacity`. \n",
    "Рассчитайте асимметрию этих столбцов. Какой вывод можно сделать о форме распределений этих переменных? Почему значение `count` различается для разных столбцов?"
   ]
  },
  {
   "cell_type": "code",
   "execution_count": 83,
   "metadata": {},
   "outputs": [],
   "source": [
    "# Ваш код здесь"
   ]
  },
  {
   "cell_type": "markdown",
   "metadata": {},
   "source": [
    "5.2. Рассчитайте коэффициент вариации для перечисленных выше столбцов (отношение стандартного отклонения к среднему значению). Какой столбец имеет наибольший коэффициент вариации?\n",
    "\n",
    "**Подсказка**: Для этой задачи можно воспользоваться тем, что сводка со статистиками - тоже таблица, с которой можно работать дальше. Или можно воспользоваться тем, что в `pandas` описательные статистики можно вычислять сразу для нескольких столбцов."
   ]
  },
  {
   "cell_type": "code",
   "execution_count": 100,
   "metadata": {},
   "outputs": [],
   "source": [
    "# Ваш код здесь"
   ]
  },
  {
   "cell_type": "markdown",
   "metadata": {},
   "source": [
    "5.3. Постройте гистограмму распределения площади портов"
   ]
  },
  {
   "cell_type": "code",
   "execution_count": 84,
   "metadata": {},
   "outputs": [],
   "source": [
    "# Ваш код здесь"
   ]
  },
  {
   "cell_type": "markdown",
   "metadata": {},
   "source": [
    "5.4. Получите рейтинг регионов по количеству портов в них"
   ]
  },
  {
   "cell_type": "code",
   "execution_count": 104,
   "metadata": {},
   "outputs": [],
   "source": [
    "# Ваш код здесь"
   ]
  },
  {
   "cell_type": "markdown",
   "metadata": {},
   "source": [
    "5.5. Постройте рейтинг морей по количеству портов в них в виде столбиковой диаграммы. Столбики должны быть расположены горизонтально, чтобы удобно читались их подписи, и должны быть расположены по убыванию."
   ]
  },
  {
   "cell_type": "code",
   "execution_count": 109,
   "metadata": {},
   "outputs": [],
   "source": [
    "# Ваш код здесь"
   ]
  }
 ],
 "metadata": {
  "kernelspec": {
   "display_name": "Python 3",
   "language": "python",
   "name": "python3"
  },
  "language_info": {
   "codemirror_mode": {
    "name": "ipython",
    "version": 3
   },
   "file_extension": ".py",
   "mimetype": "text/x-python",
   "name": "python",
   "nbconvert_exporter": "python",
   "pygments_lexer": "ipython3",
   "version": "3.8.3"
  }
 },
 "nbformat": 4,
 "nbformat_minor": 4
}
