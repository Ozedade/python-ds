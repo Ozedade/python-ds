{
 "cells": [
  {
   "cell_type": "markdown",
   "metadata": {},
   "source": [
    "# Семинар 1: Основы вычислений, базовые типы данных\n",
    "\n"
   ]
  },
  {
   "cell_type": "markdown",
   "metadata": {},
   "source": [
    "# 1. Создание функций, вычисления, сравнения"
   ]
  },
  {
   "cell_type": "markdown",
   "metadata": {},
   "source": [
    "### Задача 1.1. Функция для расчета индекса массы тела\n",
    "\n",
    "Напишите функцию, которая принимает на вход рост человека в сантиметрах и его вес в килограммах и возвращает индекс массы тела.\n",
    "\n",
    "Индекс массы тела считается так:\n",
    "\n",
    "$$\n",
    "\\text{BMI} = \\text{m} / \\text{h}^2, \n",
    "$$\n",
    "\n",
    "где `m` – масса тела в килограммах, `h` – рост *в метрах*.\n",
    "\n",
    "Рассчитайте с помощью этой функции индекс массы тела Васи, рост которого 190 см, а вес - 90 кг.  \n",
    "Напечатайте результат в виде:\n",
    "```\n",
    "Индекс массы тела: <значение с точностью до одного десятичного знака>.\n",
    "```"
   ]
  },
  {
   "cell_type": "code",
   "execution_count": 1,
   "metadata": {},
   "outputs": [],
   "source": [
    "# Ваш код здесь"
   ]
  },
  {
   "cell_type": "markdown",
   "metadata": {},
   "source": [
    "### Задача 1.2. Вася в Италии\n",
    "\n",
    "Вася уехал учиться по обмену на один семестр в Италию. Единственный магазин в городе открыт с 6 до 8 утра и с 16 до 17 вечера (включительно). Вася не мог попасть в магазин уже несколько дней и страдает от голода. Он может прийти в магазин в X часов. \n",
    "Напишите функцию, которая будет возвращать значение `True`, если в этот время магазин будет открыт и `False`, если магазин не работает.\n",
    "\n",
    "Проверьте, попадет ли Вася в магазин в 7, 9, 17 и 20 часов.\n",
    "\n"
   ]
  },
  {
   "cell_type": "code",
   "execution_count": 2,
   "metadata": {},
   "outputs": [],
   "source": [
    "# Ваш код здесь"
   ]
  },
  {
   "cell_type": "markdown",
   "metadata": {},
   "source": [
    "### Задача 1.3. Дробная часть числа\n",
    "\n",
    "Напишите функцию, которая будет возвращать дробную часть действительного числа. \n",
    "\n",
    "*Примеры:*\n",
    "```\n",
    "frac(2.2) = 0.2\n",
    "frac(-2.2) = 0.2\n",
    "```"
   ]
  },
  {
   "cell_type": "markdown",
   "metadata": {},
   "source": [
    "### Задача 1.4. Округление заказа\n",
    "\n",
    "Производитель напитков получил заказ от розничной сети - необходимо привезти 2100 упаковок напитка.\n",
    "На паллету помещается 30 упаковок. В машину помещается 33 паллеты.\n",
    "Согласно правилам доставки, клиенту может быть отправлена только полностью загруженная машина (33 паллеты по 30 упаковок в каждой).\n",
    "\n",
    "Напишите функцию, которая принимает на вход количество упаковок в заказе и печатает, какое количество упаковок можно отгрузить и сколько для этого потребуется машин."
   ]
  },
  {
   "cell_type": "code",
   "execution_count": 3,
   "metadata": {},
   "outputs": [],
   "source": [
    "# Ваш код здесь"
   ]
  },
  {
   "cell_type": "markdown",
   "metadata": {},
   "source": [
    "# 2. Работа с  коллекциями"
   ]
  },
  {
   "cell_type": "markdown",
   "metadata": {},
   "source": [
    "Напоминание про работу со коллекциями с помощью индексирования и срезов:\n",
    "\n",
    "`len(col)` - определить длину (количество элементов)\n",
    "\n",
    "`col[i]` - получить i-ый элемент (нумерация с нуля, i - положительное), в случае отрицательного i нумерация идет справа-налево, начиная с -1, например, `col[-1]` - это последний элемент\n",
    "\n",
    "`col[i:j]` - получить все элементы с i-го включительно по j-ый не включительно\n",
    "\n",
    "`col[:j]` - все элементы до j-го не включительно\n",
    "\n",
    "`col[i:]` - все элементы, начиная с i-го включительно\n",
    "\n",
    "`col[i:j:k]` - все элементы с i-го включительно по j-ый не включительно с шагом k, если шаг отрицательный, то i должно указывать на символ стоящий правее, чем j\n"
   ]
  },
  {
   "cell_type": "markdown",
   "metadata": {},
   "source": [
    "### Задача 2.1 Извлечение данных из коллекции\n",
    "\n",
    "Дан кортеж `student = ('Иван Петров', 2001, [8, 7, 7, 9, 6], True)`. \n",
    "\n",
    "Напишите код для вывода перечисленных ниже данных. \n",
    "Результаты расчета должны выводиться в понятом виде, например: \"Средний балл студента: <средний балл>\"\n",
    "\n",
    "1. Выведите возраст Ивана, если сейчас 2020 год.\n",
    "1. Выведите фамилию и имя Ивана в формате \"Студент: {Фамилия}, {Имя}\".<br/>*Подсказка*: строку в Python можно разделить на части, используя метод `split()`\n",
    "1. Напечатайте оценки Ивана через запятую. \n",
    "1. Найдите средний балл Ивана, если оценки хранятся в списке внутри кортежа. Сумму элементов списка можно найти с помощью функции `sum()`.  Выведите средний балл с точностью до 1 десятичного знака.\n",
    "1. Если средняя оценка Ивана больше или равна 8, то он получает повышенную стипендию. Выведите True или False."
   ]
  },
  {
   "cell_type": "code",
   "execution_count": 4,
   "metadata": {},
   "outputs": [],
   "source": [
    "# Ваш код здесь"
   ]
  },
  {
   "cell_type": "markdown",
   "metadata": {},
   "source": [
    "### Задача 2.2 Индексирование и срезы списков\n",
    "\n",
    "Дан список `girls`:"
   ]
  },
  {
   "cell_type": "code",
   "execution_count": 5,
   "metadata": {},
   "outputs": [],
   "source": [
    "girls = [\"Иветта\", \"Виолетта\", \"Кассандра\", \"Вирджиния\", \n",
    "         \"Амелия\", \"Розамунда\", \"Янина\", \"Беатриса\"]"
   ]
  },
  {
   "cell_type": "markdown",
   "metadata": {},
   "source": [
    " выведите на экран с помощью срезов следующие списки:\n",
    "\n",
    "    [\"Виолетта\", \"Кассандра\", \"Вирджиния\", \"Амелия\"]\n",
    "    [\"Вирджиния\", \"Амелия\", \"Розамунда\", \"Янина\", \"Беатриса\"]\n",
    "    [\"Иветта\", \"Виолетта\", \"Вирджиния\", \"Амелия\"]\n",
    "    [\"Кассандра\", \"Амелия\", \"Розамунда\"]"
   ]
  },
  {
   "cell_type": "code",
   "execution_count": 6,
   "metadata": {},
   "outputs": [],
   "source": [
    "# Ваш код здесь"
   ]
  },
  {
   "cell_type": "markdown",
   "metadata": {},
   "source": [
    "### Задача 2.3 Индексирование и срезы строк\n",
    "\n",
    "Дана строка:"
   ]
  },
  {
   "cell_type": "code",
   "execution_count": 7,
   "metadata": {},
   "outputs": [],
   "source": [
    "s = \"Abrakadabra\""
   ]
  },
  {
   "cell_type": "markdown",
   "metadata": {},
   "source": [
    "С помощью индексирования и срезов получите следующие результаты:\n",
    "\n",
    "1. Сначала выведите третий по счету символ этой строки.\n",
    "2. Во второй строке выведите предпоследний символ этой строки.\n",
    "3. В третьей строке выведите первые пять символов этой строки.\n",
    "4. В четвертой строке выведите всю строку, кроме последних двух символов.\n",
    "5. В пятой строке выведите все символы с четными индексами (считая, что индексация начинается с 0).\n",
    "6. В шестой строке выведите все символы с нечетными индексами (считая, что индексация начинается с 0).\n",
    "7. В седьмой строке выведите все символы в обратном порядке.\n",
    "8. В восьмой строке выведите все символы строки через один в обратном порядке, начиная с последнего.\n",
    "9. В девятой строке выведите длину данной строки.\n",
    "\n",
    "**Вывод:**\n",
    "\n",
    "r  \n",
    "r  \n",
    "Abrak  \n",
    "Abrakadab  \n",
    "Arkdba  \n",
    "baaar  \n",
    "arbadakarbA  \n",
    "abdkrA  \n",
    "11  "
   ]
  },
  {
   "cell_type": "markdown",
   "metadata": {},
   "source": [
    "### Задача 2.4 Создание словаря\n",
    "\n",
    "Следующий код строит стандартный график функции $y = x^2$:"
   ]
  },
  {
   "cell_type": "code",
   "execution_count": 8,
   "metadata": {},
   "outputs": [
    {
     "data": {
      "image/png": "[encoded data removed]",
      "text/plain": [
       "<Figure size 432x288 with 1 Axes>"
      ]
     },
     "metadata": {
      "needs_background": "light"
     },
     "output_type": "display_data"
    }
   ],
   "source": [
    "import numpy as np\n",
    "import matplotlib.pyplot as plt\n",
    "%matplotlib inline\n",
    "\n",
    "x = np.linspace(-10, 10, num=21)\n",
    "plt.plot(x, x**2)\n",
    "plt.show()"
   ]
  },
  {
   "cell_type": "markdown",
   "metadata": {},
   "source": [
    "У функции для рисования графика `plot()` есть следующие параметры форматирования (см. справку: `plt.plot?`):  \n",
    " - `marker` - тип маркера для точек, по которым построен график  \n",
    " - `color` - цвет линии  \n",
    " - `linestyle` - стиль линии\n",
    "\n",
    "\n",
    "*Подсказка*: возможные значения параметров смотрите в справке `plt.plot?`, а название цвета можно взять отсюда (таблица CSS Colors): https://matplotlib.org/3.3.1/gallery/color/named_colors.html\n",
    " \n",
    "Заполните словарь my_format (ключи - имена параметров, значения - значения параметров), чтобы получить вид графика, показанный на рисунке:\n"
   ]
  },
  {
   "cell_type": "code",
   "execution_count": 9,
   "metadata": {},
   "outputs": [
    {
     "data": {
      "image/png": "[encoded data removed]",
      "text/plain": [
       "<IPython.core.display.Image object>"
      ]
     },
     "metadata": {},
     "output_type": "display_data"
    }
   ],
   "source": [
    "from IPython.core.display import Image, display\n",
    "display(Image('pics/sem1_plot_example.png'))"
   ]
  },
  {
   "cell_type": "code",
   "execution_count": 10,
   "metadata": {},
   "outputs": [
    {
     "data": {
      "image/png": "[encoded data removed]",
      "text/plain": [
       "<Figure size 432x288 with 1 Axes>"
      ]
     },
     "metadata": {
      "needs_background": "light"
     },
     "output_type": "display_data"
    }
   ],
   "source": [
    "my_format = {} # заполните словарь\n",
    "\n",
    "plt.plot(x, x**2, **my_format)\n",
    "plt.show()"
   ]
  },
  {
   "cell_type": "markdown",
   "metadata": {},
   "source": [
    "### Задача 2.5 Извлечение данных из словаря\n",
    "\n",
    "\n",
    "Загрузим данные о перехватывающих парковках Москвы ([источник - data.mos.ru](https://data.mos.ru/opendata/7704786030-perehvatyvayushchie-parkovki)). Данные хранятся в формате JSON - популярном формате данных для веб-приложений и API [см. здесь](https://webkyrs.info/page/chto-takoe-json)."
   ]
  },
  {
   "cell_type": "markdown",
   "metadata": {},
   "source": [
    "Если у вас мак и выдается ошибка:  \n",
    "```UnicodeDecodeError: 'utf-8' codec can't decode byte 0xcf in position 73: invalid continuation byte```\n",
    "\n",
    "То замените первые две строчки в следующей ячейке кода на эти три:\n",
    "```Python\n",
    "import json    \n",
    "import codecs\n",
    "with codecs.open('data/parking.json', \"r\",encoding='windows-1251', errors='ignore') as parking_file:        \n",
    "```\n"
   ]
  },
  {
   "cell_type": "code",
   "execution_count": 11,
   "metadata": {},
   "outputs": [
    {
     "data": {
      "text/plain": [
       "[{'global_id': 1713487,\n",
       "  'Latitude_WGS84': '55.803528',\n",
       "  'ID': 6,\n",
       "  'ParkingName': 'Перехватывающая парковка метрополитена «Строгино»',\n",
       "  'MetroStation': 'Строгино',\n",
       "  'MetroLine': 'Арбатско-Покровская линия',\n",
       "  'AdmArea': 'Северо-Западный административный округ',\n",
       "  'District': 'район Строгино',\n",
       "  'LocationDescription': 'Строгинский бульвар, владение 14, между вестибюлями станции метро',\n",
       "  'Schedule': 'круглосуточно',\n",
       "  'OrgPhone': '(495) 622-02-04',\n",
       "  'CarCapacity': 100,\n",
       "  'Longitude_WGS84': '37.401123'},\n",
       " {'global_id': 1713489,\n",
       "  'Latitude_WGS84': '55.612122',\n",
       "  'ID': 8,\n",
       "  'ParkingName': 'Перехватывающая парковка метрополитена «Зябликово» 2',\n",
       "  'MetroStation': 'Зябликово',\n",
       "  'MetroLine': 'Люблинско-Дмитровская линия',\n",
       "  'AdmArea': 'Южный административный округ',\n",
       "  'District': 'район Зябликово',\n",
       "  'LocationDescription': 'на пересечении Ясеневой улицы с Ореховым Бульваром, напротив пустыря с деревьями, через дорогу',\n",
       "  'Schedule': 'круглосуточно',\n",
       "  'OrgPhone': '(495) 622-02-04',\n",
       "  'CarCapacity': 107,\n",
       "  'Longitude_WGS84': '37.744873'}]"
      ]
     },
     "execution_count": 11,
     "metadata": {},
     "output_type": "execute_result"
    }
   ],
   "source": [
    "import json\n",
    "with open('data/parking.json') as parking_file:\n",
    "    \n",
    "    parkings = json.load(parking_file) \n",
    "    \n",
    "# Посмотрим на 2 первых элемента:\n",
    "parkings[:2]"
   ]
  },
  {
   "cell_type": "markdown",
   "metadata": {},
   "source": [
    "Мы получили список, состоящий из словарей."
   ]
  },
  {
   "cell_type": "code",
   "execution_count": 12,
   "metadata": {},
   "outputs": [
    {
     "name": "stdout",
     "output_type": "stream",
     "text": [
      "<class 'list'> <class 'dict'>\n"
     ]
    }
   ],
   "source": [
    "print(type(parkings), type(parkings[0]))"
   ]
  },
  {
   "cell_type": "markdown",
   "metadata": {},
   "source": [
    "Напишите функцию, которая принимает на вход этот список, порядковый номер парковки (начиная с 1) и печатает ID парковки, ее название и количество парковочных мест."
   ]
  },
  {
   "cell_type": "code",
   "execution_count": 13,
   "metadata": {},
   "outputs": [],
   "source": [
    "# Ваш код здесь"
   ]
  },
  {
   "cell_type": "markdown",
   "metadata": {},
   "source": [
    "### Задача 2.6 Сортировка списка"
   ]
  },
  {
   "cell_type": "markdown",
   "metadata": {},
   "source": [
    "**Как отсортировать список**\n",
    "\n",
    "Списки в Python можно сортировать при помощи метода `sort()` (на месте), или при помощи функции `sorted()`, которая выдает новый отсортированный список."
   ]
  },
  {
   "cell_type": "code",
   "execution_count": 14,
   "metadata": {},
   "outputs": [
    {
     "name": "stdout",
     "output_type": "stream",
     "text": [
      "[-5, -4, 0, 1, 3]\n",
      "[3, -4, 1, 0, -5]\n"
     ]
    }
   ],
   "source": [
    "l = [3, -4, 1, 0, -5]\n",
    "print(sorted(l))\n",
    "print(l) # Список не изменился"
   ]
  },
  {
   "cell_type": "code",
   "execution_count": 15,
   "metadata": {},
   "outputs": [
    {
     "name": "stdout",
     "output_type": "stream",
     "text": [
      "[-5, -4, 0, 1, 3]\n"
     ]
    }
   ],
   "source": [
    "l.sort() # сортировка \"на месте\"\n",
    "print(l)"
   ]
  },
  {
   "cell_type": "markdown",
   "metadata": {},
   "source": [
    "Иногда нужно ранжировать список используя не сами элементы, а некоторые связанные с ними значения - например, результаты вычислений с элементами, или элементы из параллельного списка.\n",
    "\n",
    "В этом случае можно указать ключ, по которому следует проводить сортировку: для каждого элемента вычисляется этот ключ и элементы располагаются по возрастанию или убыванию ключей."
   ]
  },
  {
   "cell_type": "code",
   "execution_count": 16,
   "metadata": {},
   "outputs": [
    {
     "data": {
      "text/plain": [
       "[0, 1, 3, -4, -5]"
      ]
     },
     "execution_count": 16,
     "metadata": {},
     "output_type": "execute_result"
    }
   ],
   "source": [
    "l = [3, -4, 1, 0, -5]\n",
    "sorted(l, key=lambda x: abs(x))"
   ]
  },
  {
   "cell_type": "markdown",
   "metadata": {},
   "source": [
    "Здесь мы отсортировали список по возрастанию абсолютного значения элементов.\n",
    "\n",
    "А так его можно отсортировать по убыванию абсолютных значений:"
   ]
  },
  {
   "cell_type": "code",
   "execution_count": 17,
   "metadata": {},
   "outputs": [
    {
     "data": {
      "text/plain": [
       "[-5, -4, 3, 1, 0]"
      ]
     },
     "execution_count": 17,
     "metadata": {},
     "output_type": "execute_result"
    }
   ],
   "source": [
    "sorted(l, key=lambda x: abs(x), reverse=True)"
   ]
  },
  {
   "cell_type": "markdown",
   "metadata": {},
   "source": [
    "**Задача**\n",
    "\n",
    "Напишите функцию `largest_parkings()`, которая принимает на вход данные о парковках, полученные нами ранее, и число N (по умолчанию - 3). Функция должна возвратить ранжированный по убыванию количества мест список парковок из N элементов.\n",
    "\n",
    "Выведите этот список."
   ]
  },
  {
   "cell_type": "code",
   "execution_count": 18,
   "metadata": {},
   "outputs": [],
   "source": [
    "# Ваш код здесь"
   ]
  }
 ],
 "metadata": {
  "kernelspec": {
   "display_name": "Python 3",
   "language": "python",
   "name": "python3"
  },
  "language_info": {
   "codemirror_mode": {
    "name": "ipython",
    "version": 3
   },
   "file_extension": ".py",
   "mimetype": "text/x-python",
   "name": "python",
   "nbconvert_exporter": "python",
   "pygments_lexer": "ipython3",
   "version": "3.8.3"
  }
 },
 "nbformat": 4,
 "nbformat_minor": 4
}
