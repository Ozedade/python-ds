{
 "cells": [
  {
   "cell_type": "markdown",
   "metadata": {},
   "source": [
    "# Массивы numpy"
   ]
  },
  {
   "cell_type": "markdown",
   "metadata": {},
   "source": [
    "[К оглавлению](00_contents.ipynb)"
   ]
  },
  {
   "cell_type": "markdown",
   "metadata": {},
   "source": [
    "**Массив** (_array_) - тип данных, предназначенный в первую очередь для научных вычислений и визуализации данных. Определение этого типа данных и функции для работы с массивами содержатся в пакете `numpy`.\n",
    "\n",
    "В массиве могут содержаться данные только одного типа - целые или действительные числа, логические значения, строки - любые объекты. Чаще всего мы будем работать с числами и логическими значениями.\n",
    "\n",
    "[Шпаргалка по работе с массивами numpy](https://s3.amazonaws.com/assets.datacamp.com/blog_assets/Numpy_Python_Cheat_Sheet.pdf)."
   ]
  },
  {
   "cell_type": "markdown",
   "metadata": {},
   "source": [
    "\n",
    "## Применение массивов\n",
    "\n",
    "### Векторизованные вычисления\n",
    "\n",
    "Массивы очень полезны для обработки данных и вычислений. Главная их особенность - вычисления выполняются автоматически для всех элементов массива. Например, мы можем применить функцию ко всем элементам одновременно, или сложить два массива поэлементно.\n",
    "Поэлементные операции с массивами называются **векторизованными вычислениями**. \n"
   ]
  },
  {
   "cell_type": "code",
   "execution_count": 2,
   "metadata": {},
   "outputs": [
    {
     "data": {
      "text/plain": [
       "numpy.ndarray"
      ]
     },
     "execution_count": 2,
     "metadata": {},
     "output_type": "execute_result"
    }
   ],
   "source": [
    "import numpy as np\n",
    "%precision 2\n",
    "x = np.linspace(-2 * np.pi, 2 * np.pi, num=51) # Получили массив абсцисс для графика\n",
    "type(x)"
   ]
  },
  {
   "cell_type": "code",
   "execution_count": 3,
   "metadata": {},
   "outputs": [
    {
     "name": "stdout",
     "output_type": "stream",
     "text": [
      "[-6.28e+00 -6.03e+00 -5.78e+00 -5.53e+00 -5.28e+00 -5.03e+00 -4.78e+00\n",
      " -4.52e+00 -4.27e+00 -4.02e+00 -3.77e+00 -3.52e+00 -3.27e+00 -3.02e+00\n",
      " -2.76e+00 -2.51e+00 -2.26e+00 -2.01e+00 -1.76e+00 -1.51e+00 -1.26e+00\n",
      " -1.01e+00 -7.54e-01 -5.03e-01 -2.51e-01  8.88e-16  2.51e-01  5.03e-01\n",
      "  7.54e-01  1.01e+00  1.26e+00  1.51e+00  1.76e+00  2.01e+00  2.26e+00\n",
      "  2.51e+00  2.76e+00  3.02e+00  3.27e+00  3.52e+00  3.77e+00  4.02e+00\n",
      "  4.27e+00  4.52e+00  4.78e+00  5.03e+00  5.28e+00  5.53e+00  5.78e+00\n",
      "  6.03e+00  6.28e+00]\n"
     ]
    }
   ],
   "source": [
    "print(x)"
   ]
  },
  {
   "cell_type": "code",
   "execution_count": 4,
   "metadata": {},
   "outputs": [
    {
     "name": "stdout",
     "output_type": "stream",
     "text": [
      "[ 2.45e-16  2.49e-01  4.82e-01  6.85e-01  8.44e-01  9.51e-01  9.98e-01\n",
      "  9.82e-01  9.05e-01  7.71e-01  5.88e-01  3.68e-01  1.25e-01 -1.25e-01\n",
      " -3.68e-01 -5.88e-01 -7.71e-01 -9.05e-01 -9.82e-01 -9.98e-01 -9.51e-01\n",
      " -8.44e-01 -6.85e-01 -4.82e-01 -2.49e-01  8.88e-16  2.49e-01  4.82e-01\n",
      "  6.85e-01  8.44e-01  9.51e-01  9.98e-01  9.82e-01  9.05e-01  7.71e-01\n",
      "  5.88e-01  3.68e-01  1.25e-01 -1.25e-01 -3.68e-01 -5.88e-01 -7.71e-01\n",
      " -9.05e-01 -9.82e-01 -9.98e-01 -9.51e-01 -8.44e-01 -6.85e-01 -4.82e-01\n",
      " -2.49e-01 -2.45e-16]\n"
     ]
    }
   ],
   "source": [
    "y = np.sin(x) # Получили массив ординат для графика\n",
    "print(y)"
   ]
  },
  {
   "cell_type": "code",
   "execution_count": 5,
   "metadata": {},
   "outputs": [
    {
     "data": {
      "image/png": "[encoded data removed]",
      "text/plain": [
       "<Figure size 432x288 with 1 Axes>"
      ]
     },
     "metadata": {
      "needs_background": "light"
     },
     "output_type": "display_data"
    }
   ],
   "source": [
    "%matplotlib inline\n",
    "import matplotlib.pyplot as plt\n",
    "plt.plot(x, y) # используем для графика подготовленные массивы\n",
    "plt.plot(x, np.cos(x)); # или считаем значения функции в точках массива x \"на месте\""
   ]
  },
  {
   "cell_type": "markdown",
   "metadata": {},
   "source": [
    "Для работы с массивами нужны **универсальные функции**, которые содержатся в пакете `numpy`. Стандартные математические функции из `math` не будут работать. Они рассчитаны на работу с числами.\n",
    "\n",
    "Операции с массивами выполняются поэлементно:"
   ]
  },
  {
   "cell_type": "code",
   "execution_count": 6,
   "metadata": {},
   "outputs": [
    {
     "name": "stdout",
     "output_type": "stream",
     "text": [
      "[1 2 3]\n",
      "[4 5 6]\n",
      "[5 7 9]\n"
     ]
    }
   ],
   "source": [
    "x = np.array([1, 2, 3])\n",
    "y = np.array([4, 5, 6])\n",
    "\n",
    "print(x, y, x + y, sep='\\n')"
   ]
  },
  {
   "cell_type": "code",
   "execution_count": 7,
   "metadata": {},
   "outputs": [
    {
     "name": "stdout",
     "output_type": "stream",
     "text": [
      "[[1. 1. 1.]\n",
      " [1. 1. 1.]\n",
      " [1. 1. 1.]\n",
      " [1. 1. 1.]]\n"
     ]
    }
   ],
   "source": [
    "z = np.ones(shape=(4, 3))\n",
    "print(z)"
   ]
  },
  {
   "cell_type": "code",
   "execution_count": 8,
   "metadata": {},
   "outputs": [
    {
     "name": "stdout",
     "output_type": "stream",
     "text": [
      "[[2. 2. 2.]\n",
      " [2. 2. 2.]\n",
      " [2. 2. 2.]\n",
      " [2. 2. 2.]]\n"
     ]
    }
   ],
   "source": [
    "print(z + z)"
   ]
  },
  {
   "cell_type": "markdown",
   "metadata": {},
   "source": [
    "Массив-вектор также может участвовать в операции с двухмерным массивом. В этом случае операция повторяется для каждой строки матрицы"
   ]
  },
  {
   "cell_type": "code",
   "execution_count": 9,
   "metadata": {},
   "outputs": [
    {
     "name": "stdout",
     "output_type": "stream",
     "text": [
      "x:  [1 2 3]\n",
      "z:\n",
      "[[1. 1. 1.]\n",
      " [1. 1. 1.]\n",
      " [1. 1. 1.]\n",
      " [1. 1. 1.]]\n",
      "x+z:\n",
      "[[2. 3. 4.]\n",
      " [2. 3. 4.]\n",
      " [2. 3. 4.]\n",
      " [2. 3. 4.]]\n"
     ]
    }
   ],
   "source": [
    "print(\"x: \", x)\n",
    "print(\"z:\", z, sep=\"\\n\")\n",
    "print(\"x+z:\", x + z, sep=\"\\n\")"
   ]
  },
  {
   "cell_type": "markdown",
   "metadata": {},
   "source": [
    "### Операции линейной алгебры\n",
    "\n",
    "Помимо векторизованных вычислений numpy также позволяет выполнять и операции линейной алгебры - например, транспонирование или обращение матриц, умножение матриц и векторов."
   ]
  },
  {
   "cell_type": "code",
   "execution_count": 10,
   "metadata": {},
   "outputs": [
    {
     "name": "stdout",
     "output_type": "stream",
     "text": [
      "[1 2 3] [4 5 6]\n"
     ]
    },
    {
     "data": {
      "text/plain": [
       "32"
      ]
     },
     "execution_count": 10,
     "metadata": {},
     "output_type": "execute_result"
    }
   ],
   "source": [
    "print(x, y)\n",
    "x @ y # скалярное произведение векторов"
   ]
  },
  {
   "cell_type": "code",
   "execution_count": 11,
   "metadata": {},
   "outputs": [
    {
     "name": "stdout",
     "output_type": "stream",
     "text": [
      "z:\n",
      "[[1. 1. 1.]\n",
      " [1. 1. 1.]\n",
      " [1. 1. 1.]\n",
      " [1. 1. 1.]]\n",
      "z трансп:\n",
      "[[1. 1. 1. 1.]\n",
      " [1. 1. 1. 1.]\n",
      " [1. 1. 1. 1.]]\n"
     ]
    }
   ],
   "source": [
    "print(\"z:\", z, sep=\"\\n\")\n",
    "print(\"z трансп:\", z.T, sep=\"\\n\") # транспонирование"
   ]
  },
  {
   "cell_type": "code",
   "execution_count": 12,
   "metadata": {},
   "outputs": [
    {
     "name": "stdout",
     "output_type": "stream",
     "text": [
      "z:\n",
      "[[1. 1. 1.]\n",
      " [1. 1. 1.]\n",
      " [1. 1. 1.]\n",
      " [1. 1. 1.]]\n",
      "\n",
      "I:\n",
      "[[1. 0. 0.]\n",
      " [0. 1. 0.]\n",
      " [0. 0. 1.]]\n",
      "\n",
      "z * I\n",
      "[[1. 1. 1.]\n",
      " [1. 1. 1.]\n",
      " [1. 1. 1.]\n",
      " [1. 1. 1.]]\n",
      "\n"
     ]
    }
   ],
   "source": [
    "I = np.identity(3) # Единичная матрица 3x3\n",
    "print(\"z:\", z, sep=\"\\n\", end=\"\\n\\n\")\n",
    "print(\"I:\", I, sep=\"\\n\", end=\"\\n\\n\")\n",
    "print(\"z * I\", z @ I, sep=\"\\n\", end=\"\\n\\n\")"
   ]
  },
  {
   "cell_type": "markdown",
   "metadata": {},
   "source": [
    "### Статистика\n",
    "\n",
    "Для данных в массивах можно вычислять часто используемые в анализе статистические показатели:"
   ]
  },
  {
   "cell_type": "code",
   "execution_count": 13,
   "metadata": {},
   "outputs": [
    {
     "name": "stdout",
     "output_type": "stream",
     "text": [
      "z:\n",
      "[[1. 1. 1.]\n",
      " [1. 1. 1.]\n",
      " [1. 1. 1.]\n",
      " [1. 1. 1.]]\n",
      "\n",
      "Сумма: 12.0, среднее: 1.0, стандартное отклонение: 0.0\n"
     ]
    }
   ],
   "source": [
    "print(\"z:\", z, sep=\"\\n\", end=\"\\n\\n\")\n",
    "print(f\"Сумма: {np.sum(z)}, среднее: {np.mean(z)}, стандартное отклонение: {np.std(z)}\")"
   ]
  },
  {
   "cell_type": "markdown",
   "metadata": {},
   "source": [
    "При этом статистики можно вычислять как для всего массива, так и для отдельных строк или столбцов:\n"
   ]
  },
  {
   "cell_type": "code",
   "execution_count": 14,
   "metadata": {},
   "outputs": [
    {
     "name": "stdout",
     "output_type": "stream",
     "text": [
      "z:\n",
      "[[1. 1. 1.]\n",
      " [1. 1. 1.]\n",
      " [1. 1. 1.]\n",
      " [1. 1. 1.]]\n",
      "\n",
      "[4. 4. 4.]\n"
     ]
    }
   ],
   "source": [
    "print(\"z:\", z, sep=\"\\n\", end=\"\\n\\n\")\n",
    "print(np.sum(z, axis=0)) # сумма по столбцу"
   ]
  },
  {
   "cell_type": "code",
   "execution_count": 15,
   "metadata": {},
   "outputs": [
    {
     "name": "stdout",
     "output_type": "stream",
     "text": [
      "z:\n",
      "[[1. 1. 1.]\n",
      " [1. 1. 1.]\n",
      " [1. 1. 1.]\n",
      " [1. 1. 1.]]\n",
      "\n",
      "[3. 3. 3. 3.]\n"
     ]
    }
   ],
   "source": [
    "print(\"z:\", z, sep=\"\\n\", end=\"\\n\\n\")\n",
    "print(np.sum(z, axis=1)) # сумма по строке"
   ]
  },
  {
   "cell_type": "markdown",
   "metadata": {},
   "source": [
    "### Научные вычисления, моделирование, машинное обучение\n",
    "\n",
    "`numpy` - фундаментальный пакет, который используется всеми библиотеками Python для научных вычислений, анализа изображений и сигналов, машинного обучения, компьютерного зрения, оптимизации и др.\n",
    "\n",
    "Несколько примеров:\n",
    "\n",
    " - [scikit-image](https://scikit-image.org/docs/stable/auto_examples/)\n",
    " - [scikit-learn](https://scikit-learn.org/stable/)\n",
    " - [keras](https://keras.io/getting_started/intro_to_keras_for_engineers/)\n",
    " - [opencv](https://opencv-python-tutroals.readthedocs.io/en/latest/py_tutorials/py_core/py_basic_ops/py_basic_ops.html)\n",
    " \n",
    " \n",
    "Вычисления с массивами выполняются гораздо быстрее, чем обработка встроенных структур данных Python. В качестве примера рассмотрим возведение в квадрат 1 млн значений:"
   ]
  },
  {
   "cell_type": "code",
   "execution_count": 16,
   "metadata": {},
   "outputs": [],
   "source": [
    "my_list = list(range(1000000))\n",
    "my_arr = np.arange(1000000)"
   ]
  },
  {
   "cell_type": "code",
   "execution_count": 17,
   "metadata": {},
   "outputs": [
    {
     "name": "stdout",
     "output_type": "stream",
     "text": [
      "Wall time: 1.99 ms\n"
     ]
    }
   ],
   "source": [
    "%%time \n",
    "my_arr2 = my_arr **2 "
   ]
  },
  {
   "cell_type": "code",
   "execution_count": 18,
   "metadata": {},
   "outputs": [
    {
     "name": "stdout",
     "output_type": "stream",
     "text": [
      "Wall time: 174 ms\n"
     ]
    }
   ],
   "source": [
    "%%time \n",
    "my_list2 = [i**2 for i in my_list]"
   ]
  },
  {
   "cell_type": "markdown",
   "metadata": {},
   "source": [
    "## Создание массивов"
   ]
  },
  {
   "cell_type": "markdown",
   "metadata": {},
   "source": [
    "### Из списка\n",
    "\n",
    "Массив `numpy` можно создать из списка или аналогичного объекта (например, последовательности)."
   ]
  },
  {
   "cell_type": "code",
   "execution_count": 19,
   "metadata": {},
   "outputs": [
    {
     "name": "stdout",
     "output_type": "stream",
     "text": [
      "[10 20 25 32]\n"
     ]
    }
   ],
   "source": [
    "arr1 = np.array([10, 20, 25, 32]) #массив из списка\n",
    "print(arr1)"
   ]
  },
  {
   "cell_type": "code",
   "execution_count": 20,
   "metadata": {},
   "outputs": [
    {
     "data": {
      "text/plain": [
       "array([0, 1, 2, 3, 4, 5, 6, 7, 8, 9])"
      ]
     },
     "execution_count": 20,
     "metadata": {},
     "output_type": "execute_result"
    }
   ],
   "source": [
    "np.array(range(10)) # массив из последовательности"
   ]
  },
  {
   "cell_type": "code",
   "execution_count": 21,
   "metadata": {},
   "outputs": [
    {
     "name": "stdout",
     "output_type": "stream",
     "text": [
      "[[1 2 3]\n",
      " [4 5 6]\n",
      " [7 8 9]]\n"
     ]
    }
   ],
   "source": [
    "#двухмерный массив из списка:\n",
    "arr2 = np.array([[1, 2, 3],\n",
    "                 [4, 5, 6],\n",
    "                 [7, 8, 9]])\n",
    "print(arr2)"
   ]
  },
  {
   "cell_type": "markdown",
   "metadata": {},
   "source": [
    "Используя вложенные списки, можно создавать массивы любой размерности."
   ]
  },
  {
   "cell_type": "markdown",
   "metadata": {},
   "source": [
    "### С помощью функций для создания массивов\n",
    "\n",
    "При построении графиков очень удобно пользоваться функциями для создания одномерных массивов со значениями в заданном диапазоне.\n",
    "\n",
    "Функция `np.arange()` генерирует последовательность значений в заданных пределах и с заданным  шагом в виде массива:"
   ]
  },
  {
   "cell_type": "code",
   "execution_count": 22,
   "metadata": {},
   "outputs": [
    {
     "data": {
      "text/plain": [
       "array([-10,  -8,  -6,  -4,  -2,   0,   2,   4,   6,   8,  10])"
      ]
     },
     "execution_count": 22,
     "metadata": {},
     "output_type": "execute_result"
    }
   ],
   "source": [
    "x = np.arange(-10, 12, 2) # последовательность в заданных пределах\n",
    "x"
   ]
  },
  {
   "cell_type": "markdown",
   "metadata": {},
   "source": [
    "Функция `np.linspace()` разбивает указанный интервал на заданное число отрезков."
   ]
  },
  {
   "cell_type": "code",
   "execution_count": 23,
   "metadata": {},
   "outputs": [
    {
     "data": {
      "text/plain": [
       "array([-10.,  -8.,  -6.,  -4.,  -2.,   0.,   2.,   4.,   6.,   8.,  10.])"
      ]
     },
     "execution_count": 23,
     "metadata": {},
     "output_type": "execute_result"
    }
   ],
   "source": [
    "y = np.linspace(-10, 10, 11) # разбиение интервала\n",
    "y"
   ]
  },
  {
   "cell_type": "markdown",
   "metadata": {},
   "source": [
    "**Обратите внимание:**  аргументом функции является число границ отрезков, оно на единицу больше числа отрезков (например, у одного отрезка - две границы, у двух смежных отрезков - три граничных точки). Поэтому чтобы сделать длину отрезков \"круглой\" мы задаем нечетное число границ.\n",
    "\n",
    "Есть похожая функция `np.logspace()`, которая выдает такие границы, логарифмы которых распределены равномерно в интервале заданном интервале. По умолчанию используется основание 10."
   ]
  },
  {
   "cell_type": "code",
   "execution_count": 24,
   "metadata": {},
   "outputs": [
    {
     "data": {
      "text/plain": [
       "array([1.e-03, 1.e-02, 1.e-01, 1.e+00, 1.e+01, 1.e+02, 1.e+03])"
      ]
     },
     "execution_count": 24,
     "metadata": {},
     "output_type": "execute_result"
    }
   ],
   "source": [
    "l = np.logspace(-3, 3, 7)\n",
    "l"
   ]
  },
  {
   "cell_type": "markdown",
   "metadata": {},
   "source": [
    "Существуют и функции для создания многомерных массивов, например функция `np.identity()` создает единичную матрицу:"
   ]
  },
  {
   "cell_type": "code",
   "execution_count": 25,
   "metadata": {},
   "outputs": [
    {
     "name": "stdout",
     "output_type": "stream",
     "text": [
      "[[1. 0. 0. 0. 0.]\n",
      " [0. 1. 0. 0. 0.]\n",
      " [0. 0. 1. 0. 0.]\n",
      " [0. 0. 0. 1. 0.]\n",
      " [0. 0. 0. 0. 1.]]\n"
     ]
    }
   ],
   "source": [
    "I = np.identity(5) #единичная матрица\n",
    "print(I)"
   ]
  },
  {
   "cell_type": "markdown",
   "metadata": {},
   "source": [
    "Можно создавать массивы произвольной размерности и формы, заполненные нулями, единицами, указанным значением или случайными значениями."
   ]
  },
  {
   "cell_type": "code",
   "execution_count": 26,
   "metadata": {},
   "outputs": [
    {
     "name": "stdout",
     "output_type": "stream",
     "text": [
      "[[0. 0. 0. 0.]\n",
      " [0. 0. 0. 0.]\n",
      " [0. 0. 0. 0.]]\n"
     ]
    }
   ],
   "source": [
    "Z = np.zeros((3, 4)) # Массив нулей\n",
    "print(Z) "
   ]
  },
  {
   "cell_type": "markdown",
   "metadata": {},
   "source": [
    "Создание массивов с нулями с целью их последующего заполнения - распространенный прием, ускоряющий расчеты. Более эффективно сначала выделить память под массив нулей нужной формы, а уже потом - менять значения на нужные с помощью вычислений."
   ]
  },
  {
   "cell_type": "code",
   "execution_count": 27,
   "metadata": {},
   "outputs": [
    {
     "name": "stdout",
     "output_type": "stream",
     "text": [
      "[[1. 1. 1. 1.]\n",
      " [1. 1. 1. 1.]\n",
      " [1. 1. 1. 1.]]\n"
     ]
    }
   ],
   "source": [
    "O = np.ones((3, 4)) # Массив единиц\n",
    "print(O)"
   ]
  },
  {
   "cell_type": "code",
   "execution_count": 28,
   "metadata": {},
   "outputs": [
    {
     "name": "stdout",
     "output_type": "stream",
     "text": [
      "[[5 5 5 5]\n",
      " [5 5 5 5]\n",
      " [5 5 5 5]]\n"
     ]
    }
   ],
   "source": [
    "F = np.full((3, 4), fill_value=5) # Массив пятерок\n",
    "print(F)"
   ]
  },
  {
   "cell_type": "code",
   "execution_count": 29,
   "metadata": {},
   "outputs": [
    {
     "name": "stdout",
     "output_type": "stream",
     "text": [
      "[[5 0 3 3]\n",
      " [7 3 5 2]\n",
      " [4 7 6 8]]\n"
     ]
    }
   ],
   "source": [
    "np.random.seed(0) # инициализация генератора случайных чисел, для воспроизводимости\n",
    "R = np.random.randint(low = 0, high = 9, size=(3, 4)) # Случайный массив\n",
    "print(R)"
   ]
  },
  {
   "cell_type": "markdown",
   "metadata": {},
   "source": [
    "### С помощью склеивания\n",
    "\n",
    "Еще один способ создания массива - с помощью склеивания (путем стыковки) из нескольких массивов."
   ]
  },
  {
   "cell_type": "code",
   "execution_count": 30,
   "metadata": {},
   "outputs": [
    {
     "name": "stdout",
     "output_type": "stream",
     "text": [
      "[[0. 0. 0. 0. 1. 1. 1. 1.]\n",
      " [0. 0. 0. 0. 1. 1. 1. 1.]\n",
      " [0. 0. 0. 0. 1. 1. 1. 1.]]\n"
     ]
    }
   ],
   "source": [
    "first_row = np.hstack((Z, O)) # Склеили по горизонтали два массива\n",
    "print(first_row)"
   ]
  },
  {
   "cell_type": "code",
   "execution_count": 31,
   "metadata": {},
   "outputs": [
    {
     "name": "stdout",
     "output_type": "stream",
     "text": [
      "[[5 5 5 5 5 0 3 3]\n",
      " [5 5 5 5 7 3 5 2]\n",
      " [5 5 5 5 4 7 6 8]]\n"
     ]
    }
   ],
   "source": [
    "second_row = np.hstack((F, R)) # еще два\n",
    "print(second_row)"
   ]
  },
  {
   "cell_type": "code",
   "execution_count": 32,
   "metadata": {},
   "outputs": [
    {
     "name": "stdout",
     "output_type": "stream",
     "text": [
      "[[0. 0. 0. 0. 1. 1. 1. 1.]\n",
      " [0. 0. 0. 0. 1. 1. 1. 1.]\n",
      " [0. 0. 0. 0. 1. 1. 1. 1.]\n",
      " [5. 5. 5. 5. 5. 0. 3. 3.]\n",
      " [5. 5. 5. 5. 7. 3. 5. 2.]\n",
      " [5. 5. 5. 5. 4. 7. 6. 8.]]\n"
     ]
    }
   ],
   "source": [
    "big_array = np.vstack((first_row, second_row)) # Склеили по вертикали\n",
    "print(big_array)"
   ]
  },
  {
   "cell_type": "markdown",
   "metadata": {},
   "source": [
    "## Характеристики массивов"
   ]
  },
  {
   "cell_type": "markdown",
   "metadata": {},
   "source": [
    "При работе с массивами важно понимать их размерность и форму, поскольку эти характеристики определяют совместимость массивов при выполнении операций с ними.\n",
    "\n",
    "### Размерность и форма\n",
    "\n",
    "Размерность массива (`ndim`) - это количество измерений (осей). Форма массива (`shape`) - количество элементов по каждой оси.\n",
    "\n",
    "\n",
    "![](pics/numpy_axes.png)"
   ]
  },
  {
   "cell_type": "code",
   "execution_count": 33,
   "metadata": {},
   "outputs": [
    {
     "name": "stdout",
     "output_type": "stream",
     "text": [
      "[10 20 25 32]\n",
      "1\n",
      "(4,)\n"
     ]
    }
   ],
   "source": [
    "print(arr1)\n",
    "print(arr1.ndim) #число измерений\n",
    "print(arr1.shape) #форма"
   ]
  },
  {
   "cell_type": "code",
   "execution_count": 34,
   "metadata": {},
   "outputs": [
    {
     "name": "stdout",
     "output_type": "stream",
     "text": [
      "[[5 5 5 5]\n",
      " [5 5 5 5]\n",
      " [5 5 5 5]]\n",
      "2\n",
      "(3, 4)\n"
     ]
    }
   ],
   "source": [
    "print(F)\n",
    "print(F.ndim)\n",
    "print(F.shape)"
   ]
  },
  {
   "cell_type": "markdown",
   "metadata": {},
   "source": [
    "Общее количество элементов в массиве хранит атрибут `size`:"
   ]
  },
  {
   "cell_type": "code",
   "execution_count": 35,
   "metadata": {},
   "outputs": [
    {
     "name": "stdout",
     "output_type": "stream",
     "text": [
      "[10 20 25 32]\n"
     ]
    },
    {
     "data": {
      "text/plain": [
       "4"
      ]
     },
     "execution_count": 35,
     "metadata": {},
     "output_type": "execute_result"
    }
   ],
   "source": [
    "print(arr1)\n",
    "arr1.size"
   ]
  },
  {
   "cell_type": "code",
   "execution_count": 36,
   "metadata": {},
   "outputs": [
    {
     "name": "stdout",
     "output_type": "stream",
     "text": [
      "[[5 5 5 5]\n",
      " [5 5 5 5]\n",
      " [5 5 5 5]]\n"
     ]
    },
    {
     "data": {
      "text/plain": [
       "12"
      ]
     },
     "execution_count": 36,
     "metadata": {},
     "output_type": "execute_result"
    }
   ],
   "source": [
    "print(F)\n",
    "F.size"
   ]
  },
  {
   "cell_type": "markdown",
   "metadata": {},
   "source": [
    "**Обратите внимание:** встроенная функция `len()` видит только первую ось массива, поэтому для двухмерного массива она выдаст только количество строк в нем, а не количество элементов:"
   ]
  },
  {
   "cell_type": "code",
   "execution_count": 37,
   "metadata": {},
   "outputs": [
    {
     "name": "stdout",
     "output_type": "stream",
     "text": [
      "[[5 5 5 5]\n",
      " [5 5 5 5]\n",
      " [5 5 5 5]]\n"
     ]
    },
    {
     "data": {
      "text/plain": [
       "3"
      ]
     },
     "execution_count": 37,
     "metadata": {},
     "output_type": "execute_result"
    }
   ],
   "source": [
    "print(F)\n",
    "len(F)"
   ]
  },
  {
   "cell_type": "markdown",
   "metadata": {},
   "source": [
    "Для одномерных массивов `len()` выдает корректный результат, но лучше пользоваться атрибутами `size` или `shape`."
   ]
  },
  {
   "cell_type": "code",
   "execution_count": 38,
   "metadata": {},
   "outputs": [
    {
     "name": "stdout",
     "output_type": "stream",
     "text": [
      "[10 20 25 32]\n"
     ]
    },
    {
     "data": {
      "text/plain": [
       "4"
      ]
     },
     "execution_count": 38,
     "metadata": {},
     "output_type": "execute_result"
    }
   ],
   "source": [
    "print(arr1)\n",
    "len(arr1)"
   ]
  },
  {
   "cell_type": "markdown",
   "metadata": {},
   "source": [
    "### Тип данных элемента\n",
    "\n",
    "Пакет `numpy` - это на самом интерфейс между Python и высокопроизводительными библиотеками для расчетов, написанными на языке `C`. Поэтому внутри `numpy` использует набор числовых типов данных из `C`. Если вы работаете с большими данными и надо экономить память, или если у библиотек, которые вы используете, есть специфические требования, то типу данных элементов массива надо уделять внимание. \n",
    "\n",
    "Узнать тип данных элемента можно при помощи атрибута `dtype`."
   ]
  },
  {
   "cell_type": "code",
   "execution_count": 39,
   "metadata": {},
   "outputs": [
    {
     "name": "stdout",
     "output_type": "stream",
     "text": [
      "[-10  -8  -6  -4  -2   0   2   4   6   8  10] int32\n",
      "[-10.  -8.  -6.  -4.  -2.   0.   2.   4.   6.   8.  10.] float64\n"
     ]
    }
   ],
   "source": [
    "print(x, x.dtype)\n",
    "print(y, y.dtype)"
   ]
  },
  {
   "cell_type": "markdown",
   "metadata": {},
   "source": [
    "Тип можно указывать при создании массива:"
   ]
  },
  {
   "cell_type": "code",
   "execution_count": 40,
   "metadata": {},
   "outputs": [
    {
     "name": "stdout",
     "output_type": "stream",
     "text": [
      "[1. 2. 3.] float64\n"
     ]
    }
   ],
   "source": [
    "arr3 = np.array([1, 2, 3], dtype=np.float64)\n",
    "print(arr3, arr3.dtype)"
   ]
  },
  {
   "cell_type": "markdown",
   "metadata": {},
   "source": [
    "Также можно преобразовать тип элемента:"
   ]
  },
  {
   "cell_type": "code",
   "execution_count": 41,
   "metadata": {},
   "outputs": [
    {
     "name": "stdout",
     "output_type": "stream",
     "text": [
      "[-10.  -8.  -6.  -4.  -2.   0.   2.   4.   6.   8.  10.] float32\n"
     ]
    }
   ],
   "source": [
    "z = y.astype('float32')\n",
    "print(z, z.dtype)"
   ]
  },
  {
   "cell_type": "markdown",
   "metadata": {},
   "source": [
    "Разница в объеме памяти, необходимом для хранения данных в массивах `y` и `z` - в два раза."
   ]
  },
  {
   "cell_type": "code",
   "execution_count": 42,
   "metadata": {},
   "outputs": [
    {
     "name": "stdout",
     "output_type": "stream",
     "text": [
      "88 44\n"
     ]
    }
   ],
   "source": [
    "print(y.nbytes, z.nbytes)"
   ]
  },
  {
   "cell_type": "markdown",
   "metadata": {},
   "source": [
    "Важно помнить, что массив `numpy` может хранить только однотипные значения. Поэтому если попытаться создать массив из списка с разнотипными элементами, то у массива будет такой тип, который позволяет сохранить все эти элементы."
   ]
  },
  {
   "cell_type": "code",
   "execution_count": 43,
   "metadata": {},
   "outputs": [
    {
     "name": "stdout",
     "output_type": "stream",
     "text": [
      "['one' '2' '3' '4'] <U3\n"
     ]
    }
   ],
   "source": [
    "V = np.array(['one', 2, 3, 4])\n",
    "print(V, V.dtype) # Все стало строками"
   ]
  },
  {
   "cell_type": "code",
   "execution_count": 44,
   "metadata": {},
   "outputs": [
    {
     "name": "stdout",
     "output_type": "stream",
     "text": [
      "[1.   2.   3.14] float64\n"
     ]
    }
   ],
   "source": [
    "W = np.array([True, 2, 3.1415])\n",
    "print(W, W.dtype)  # все стало вещественными числами"
   ]
  },
  {
   "cell_type": "markdown",
   "metadata": {},
   "source": [
    "## Операции с массивами"
   ]
  },
  {
   "cell_type": "markdown",
   "metadata": {},
   "source": [
    "### Извлечение элементов \n",
    "\n",
    "Извлечение элементов из одномерных массивов работает так же, как и со списками/кортежами.  \n",
    "Важно помнить, что нумерация элементов в Python начинается от нуля.\n",
    "\n",
    "![Индексирование элементов списка](pics/list_indexing.svg 'Индексирование элементов списка')\n",
    "\n",
    "\n",
    "Диапазон значений (**срез**) можно указать с помощью двоеточия: `[a:b]`\n",
    "Также можно задать шаг `[a:b:c]`\n",
    "\n",
    "Обратите внимание, что правая граница (`b`) не включается в диапазон, как и в списках/кортежах!\n"
   ]
  },
  {
   "cell_type": "code",
   "execution_count": 45,
   "metadata": {},
   "outputs": [
    {
     "name": "stdout",
     "output_type": "stream",
     "text": [
      "[10 20 25 32]\n",
      "32\n",
      "[10 20]\n",
      "[25 32]\n",
      "[32 25 20 10]\n"
     ]
    }
   ],
   "source": [
    "print(arr1)\n",
    "\n",
    "print(arr1[3]) # четвертый элемент! нумерация идет от нуля\n",
    "print(arr1[:2]) # первые два элемента\n",
    "print(arr1[-2:]) # последние два элемента\n",
    "print(arr1[::-1]) # весь массив задом наперед (шаг -1)"
   ]
  },
  {
   "cell_type": "markdown",
   "metadata": {},
   "source": [
    "Для двухмерных массивов необходимо указать два индекса, чтобы извлечь элемент.\n",
    "![](pics/numpy_indexing.png)"
   ]
  },
  {
   "cell_type": "code",
   "execution_count": 46,
   "metadata": {},
   "outputs": [
    {
     "name": "stdout",
     "output_type": "stream",
     "text": [
      "[[5 0 3 3]\n",
      " [7 3 5 2]\n",
      " [4 7 6 8]]\n"
     ]
    },
    {
     "data": {
      "text/plain": [
       "5"
      ]
     },
     "execution_count": 46,
     "metadata": {},
     "output_type": "execute_result"
    }
   ],
   "source": [
    "print(R)\n",
    "R[1, 2]"
   ]
  },
  {
   "cell_type": "markdown",
   "metadata": {},
   "source": [
    "### Срезы\n",
    "\n",
    "Как и у базовых структур данных, у массивов есть **срезы** (slices).\n",
    "Срезы можно делать, чтобы обращаться к различным частям массива"
   ]
  },
  {
   "cell_type": "markdown",
   "metadata": {},
   "source": [
    "![](pics/numpy_slicing.jpg)"
   ]
  },
  {
   "cell_type": "markdown",
   "metadata": {},
   "source": [
    "Срезы позволяют не только читать, но и перезаписывать элементы массива"
   ]
  },
  {
   "cell_type": "code",
   "execution_count": 47,
   "metadata": {},
   "outputs": [
    {
     "name": "stdout",
     "output_type": "stream",
     "text": [
      "[[0. 0. 0. 0.]\n",
      " [0. 0. 0. 0.]\n",
      " [0. 0. 0. 0.]]\n"
     ]
    }
   ],
   "source": [
    "A = np.zeros((3, 4))\n",
    "print(A)"
   ]
  },
  {
   "cell_type": "code",
   "execution_count": 48,
   "metadata": {},
   "outputs": [
    {
     "name": "stdout",
     "output_type": "stream",
     "text": [
      "[[0. 0. 0. 0.]\n",
      " [0. 5. 0. 0.]\n",
      " [0. 0. 0. 0.]]\n"
     ]
    }
   ],
   "source": [
    "A[1, 1] = 5 #изменение элемента\n",
    "print(A)"
   ]
  },
  {
   "cell_type": "code",
   "execution_count": 49,
   "metadata": {},
   "outputs": [
    {
     "name": "stdout",
     "output_type": "stream",
     "text": [
      "[[ 0.  0.  0.  0.]\n",
      " [ 0.  5. 10. 10.]\n",
      " [ 0.  0. 10. 10.]]\n"
     ]
    }
   ],
   "source": [
    "A[1:, 2:] = 10 # изменение всех элементов в срезе\n",
    "print(A)"
   ]
  },
  {
   "cell_type": "code",
   "execution_count": 50,
   "metadata": {},
   "outputs": [
    {
     "name": "stdout",
     "output_type": "stream",
     "text": [
      "[ 0.  5. 10. 10.]\n"
     ]
    }
   ],
   "source": [
    "print(A[1]) #извлечение строки"
   ]
  },
  {
   "cell_type": "code",
   "execution_count": 51,
   "metadata": {},
   "outputs": [
    {
     "name": "stdout",
     "output_type": "stream",
     "text": [
      "[0. 5. 0.]\n"
     ]
    }
   ],
   "source": [
    "print(A[:, 1]) #извлечение столбца"
   ]
  },
  {
   "cell_type": "markdown",
   "metadata": {},
   "source": [
    "### Копирование \n",
    "\n",
    "Как и в случае со списками, при присваивании массива новой переменной создается ссылка на тот же массив, а не его копия. При доступе к массиву с использованием второй переменной будет меняться оригинальный массив!"
   ]
  },
  {
   "cell_type": "code",
   "execution_count": 52,
   "metadata": {},
   "outputs": [
    {
     "name": "stdout",
     "output_type": "stream",
     "text": [
      "[[33.  0.  0.  0.]\n",
      " [ 0.  5. 10. 10.]\n",
      " [ 0.  0. 10. 10.]]\n"
     ]
    }
   ],
   "source": [
    "B = A #переменная B ссылается на тот же массив, что и переменная A\n",
    "B[0, 0] = 33\n",
    "print(B)"
   ]
  },
  {
   "cell_type": "code",
   "execution_count": 53,
   "metadata": {},
   "outputs": [
    {
     "name": "stdout",
     "output_type": "stream",
     "text": [
      "[[33.  0.  0.  0.]\n",
      " [ 0.  5. 10. 10.]\n",
      " [ 0.  0. 10. 10.]]\n"
     ]
    }
   ],
   "source": [
    "print(A) #массив изменился, поэтому ссылка A также показывает измененный вариант"
   ]
  },
  {
   "cell_type": "code",
   "execution_count": 54,
   "metadata": {},
   "outputs": [
    {
     "name": "stdout",
     "output_type": "stream",
     "text": [
      "[[55.  0.  0.  0.]\n",
      " [ 0.  5. 10. 10.]\n",
      " [ 0.  0. 10. 10.]]\n"
     ]
    }
   ],
   "source": [
    "C = A.copy() #создается копия массива\n",
    "C[0, 0] = 55 # меняем копию\n",
    "print(C) "
   ]
  },
  {
   "cell_type": "code",
   "execution_count": 55,
   "metadata": {},
   "outputs": [
    {
     "name": "stdout",
     "output_type": "stream",
     "text": [
      "[[33.  0.  0.  0.]\n",
      " [ 0.  5. 10. 10.]\n",
      " [ 0.  0. 10. 10.]]\n"
     ]
    }
   ],
   "source": [
    "print(A) #оригинал не изменился"
   ]
  },
  {
   "cell_type": "markdown",
   "metadata": {},
   "source": [
    "### Изменение формы"
   ]
  },
  {
   "cell_type": "code",
   "execution_count": 56,
   "metadata": {},
   "outputs": [
    {
     "name": "stdout",
     "output_type": "stream",
     "text": [
      "[[33.  0.  0.]\n",
      " [ 0.  5.  0.]\n",
      " [ 0. 10. 10.]\n",
      " [ 0. 10. 10.]]\n"
     ]
    }
   ],
   "source": [
    "print(A.T) #транспонирование"
   ]
  },
  {
   "cell_type": "code",
   "execution_count": 57,
   "metadata": {},
   "outputs": [
    {
     "data": {
      "text/plain": [
       "array([ 1,  2,  3,  4,  5,  6,  7,  8,  9, 10, 11, 12, 13, 14, 15, 16, 17,\n",
       "       18, 19, 20, 21, 22, 23, 24])"
      ]
     },
     "execution_count": 57,
     "metadata": {},
     "output_type": "execute_result"
    }
   ],
   "source": [
    "D = np.arange(1, 25)\n",
    "D"
   ]
  },
  {
   "cell_type": "code",
   "execution_count": 58,
   "metadata": {},
   "outputs": [
    {
     "data": {
      "text/plain": [
       "array([[ 1,  2,  3,  4,  5,  6],\n",
       "       [ 7,  8,  9, 10, 11, 12],\n",
       "       [13, 14, 15, 16, 17, 18],\n",
       "       [19, 20, 21, 22, 23, 24]])"
      ]
     },
     "execution_count": 58,
     "metadata": {},
     "output_type": "execute_result"
    }
   ],
   "source": [
    "E = D.reshape(4, 6)\n",
    "E"
   ]
  },
  {
   "cell_type": "code",
   "execution_count": 59,
   "metadata": {},
   "outputs": [
    {
     "data": {
      "text/plain": [
       "array([[ 1,  2,  3,  4],\n",
       "       [ 5,  6,  7,  8],\n",
       "       [ 9, 10, 11, 12],\n",
       "       [13, 14, 15, 16],\n",
       "       [17, 18, 19, 20],\n",
       "       [21, 22, 23, 24]])"
      ]
     },
     "execution_count": 59,
     "metadata": {},
     "output_type": "execute_result"
    }
   ],
   "source": [
    "E.reshape(6, 4)"
   ]
  },
  {
   "cell_type": "code",
   "execution_count": 60,
   "metadata": {},
   "outputs": [
    {
     "data": {
      "text/plain": [
       "array([[ 1,  2,  3],\n",
       "       [ 4,  5,  6],\n",
       "       [ 7,  8,  9],\n",
       "       [10, 11, 12],\n",
       "       [13, 14, 15],\n",
       "       [16, 17, 18],\n",
       "       [19, 20, 21],\n",
       "       [22, 23, 24]])"
      ]
     },
     "execution_count": 60,
     "metadata": {},
     "output_type": "execute_result"
    }
   ],
   "source": [
    "E.reshape(-1, 3) # определить длину измерения автоматически"
   ]
  },
  {
   "cell_type": "code",
   "execution_count": 61,
   "metadata": {},
   "outputs": [
    {
     "data": {
      "text/plain": [
       "array([ 1,  2,  3,  4,  5,  6,  7,  8,  9, 10, 11, 12, 13, 14, 15, 16, 17,\n",
       "       18, 19, 20, 21, 22, 23, 24])"
      ]
     },
     "execution_count": 61,
     "metadata": {},
     "output_type": "execute_result"
    }
   ],
   "source": [
    "E.ravel() # назад в одномерный массив"
   ]
  },
  {
   "cell_type": "markdown",
   "metadata": {},
   "source": [
    "### Вычисления\n",
    "\n",
    "Главная особенность массивов numpy - возможность применять вычисления сразу ко всем элементам массива."
   ]
  },
  {
   "cell_type": "code",
   "execution_count": 62,
   "metadata": {},
   "outputs": [
    {
     "name": "stdout",
     "output_type": "stream",
     "text": [
      "[[66.  0.  0.  0.]\n",
      " [ 0. 10. 20. 20.]\n",
      " [ 0.  0. 20. 20.]]\n"
     ]
    }
   ],
   "source": [
    "print(A * 2) #полэлементное умножение"
   ]
  },
  {
   "cell_type": "code",
   "execution_count": 63,
   "metadata": {},
   "outputs": [
    {
     "name": "stdout",
     "output_type": "stream",
     "text": [
      "[[1089.    0.    0.    0.]\n",
      " [   0.   25.  100.  100.]\n",
      " [   0.    0.  100.  100.]]\n"
     ]
    }
   ],
   "source": [
    "print(A * A)"
   ]
  },
  {
   "cell_type": "markdown",
   "metadata": {},
   "source": [
    "В пакете `numpy` есть множество **универсальных функций** (ufunc), которые применяются сразу ко всем элементам массива."
   ]
  },
  {
   "cell_type": "code",
   "execution_count": 64,
   "metadata": {},
   "outputs": [
    {
     "name": "stdout",
     "output_type": "stream",
     "text": [
      "[[33.  0.  0.  0.]\n",
      " [ 0.  5. 10. 10.]\n",
      " [ 0.  0. 10. 10.]]\n"
     ]
    }
   ],
   "source": [
    "print(np.sqrt(A * A)) #применение функции к каждому элементу массива"
   ]
  },
  {
   "cell_type": "markdown",
   "metadata": {},
   "source": [
    "### Статистика\n",
    "В `numpy` есть также функции для расчета базовых описательных статистик по массиву - суммы, среднего, медианы и т.п. Их можно применять ко всему массиву, или отдельно к любому его измерению."
   ]
  },
  {
   "cell_type": "code",
   "execution_count": 65,
   "metadata": {},
   "outputs": [
    {
     "data": {
      "text/plain": [
       "array([[1, 2, 3],\n",
       "       [4, 5, 6],\n",
       "       [7, 8, 9]])"
      ]
     },
     "execution_count": 65,
     "metadata": {},
     "output_type": "execute_result"
    }
   ],
   "source": [
    "F = np.arange(1, 10).reshape(3, 3)\n",
    "F"
   ]
  },
  {
   "cell_type": "code",
   "execution_count": 66,
   "metadata": {},
   "outputs": [
    {
     "data": {
      "text/plain": [
       "45"
      ]
     },
     "execution_count": 66,
     "metadata": {},
     "output_type": "execute_result"
    }
   ],
   "source": [
    "F.sum()"
   ]
  },
  {
   "cell_type": "code",
   "execution_count": 67,
   "metadata": {},
   "outputs": [
    {
     "data": {
      "text/plain": [
       "array([12, 15, 18])"
      ]
     },
     "execution_count": 67,
     "metadata": {},
     "output_type": "execute_result"
    }
   ],
   "source": [
    "F.sum(axis = 0) # сумма вдоль нулевой оси (строки), т.е. результат - сумма по каждому столбцу"
   ]
  },
  {
   "cell_type": "code",
   "execution_count": 68,
   "metadata": {},
   "outputs": [
    {
     "data": {
      "text/plain": [
       "array([ 6, 15, 24])"
      ]
     },
     "execution_count": 68,
     "metadata": {},
     "output_type": "execute_result"
    }
   ],
   "source": [
    "F.sum(axis = 1) # сумма вдоль первой оси (столбцы), т.е. результат - это сумма по каждой строке"
   ]
  },
  {
   "cell_type": "code",
   "execution_count": 69,
   "metadata": {},
   "outputs": [
    {
     "data": {
      "text/plain": [
       "1"
      ]
     },
     "execution_count": 69,
     "metadata": {},
     "output_type": "execute_result"
    }
   ],
   "source": [
    "F.min() # Наименьший элемент"
   ]
  },
  {
   "cell_type": "code",
   "execution_count": 70,
   "metadata": {},
   "outputs": [
    {
     "data": {
      "text/plain": [
       "0"
      ]
     },
     "execution_count": 70,
     "metadata": {},
     "output_type": "execute_result"
    }
   ],
   "source": [
    "F.argmin() # где он находится?"
   ]
  },
  {
   "cell_type": "markdown",
   "metadata": {},
   "source": [
    "**Замечание:** по умолчанию `argmin()` выдает номер элемента в \"сплющенном\" с помощью `ravel()` массиве. Если надо найти позицию наименьшего/наибольшего элемента в столбце или строке, то необходимо указать явно, по какой оси его искать."
   ]
  },
  {
   "cell_type": "code",
   "execution_count": 71,
   "metadata": {},
   "outputs": [
    {
     "name": "stdout",
     "output_type": "stream",
     "text": [
      "[0 0 0]\n"
     ]
    }
   ],
   "source": [
    "print(F.argmin(axis=0)) # Номера строк для наименьших элементов в каждом столбце"
   ]
  },
  {
   "cell_type": "code",
   "execution_count": 72,
   "metadata": {},
   "outputs": [
    {
     "data": {
      "text/plain": [
       "array([0, 0, 0], dtype=int64)"
      ]
     },
     "execution_count": 72,
     "metadata": {},
     "output_type": "execute_result"
    }
   ],
   "source": [
    "F.argmin(axis=1) # Номера строк для наименьших элементов в каждой строке"
   ]
  },
  {
   "cell_type": "markdown",
   "metadata": {},
   "source": [
    "### Проверка условий\n",
    "\n",
    "Массивы поддерживают не только арифметические операции, но и сравнения/логику. Это позволяет выбирать нужные элементы массивов по условию или проводить условные вычисления."
   ]
  },
  {
   "cell_type": "code",
   "execution_count": 73,
   "metadata": {},
   "outputs": [
    {
     "name": "stdout",
     "output_type": "stream",
     "text": [
      "[10 20 25 32]\n"
     ]
    },
    {
     "data": {
      "text/plain": [
       "array([False,  True,  True,  True])"
      ]
     },
     "execution_count": 73,
     "metadata": {},
     "output_type": "execute_result"
    }
   ],
   "source": [
    "print(arr1)\n",
    "arr1 >= 18"
   ]
  },
  {
   "cell_type": "code",
   "execution_count": 74,
   "metadata": {},
   "outputs": [
    {
     "name": "stdout",
     "output_type": "stream",
     "text": [
      "[[1 2 3]\n",
      " [4 5 6]\n",
      " [7 8 9]]\n"
     ]
    },
    {
     "data": {
      "text/plain": [
       "array([[False, False, False],\n",
       "       [False, False,  True],\n",
       "       [ True,  True,  True]])"
      ]
     },
     "execution_count": 74,
     "metadata": {},
     "output_type": "execute_result"
    }
   ],
   "source": [
    "print(F)\n",
    "F > 5"
   ]
  },
  {
   "cell_type": "markdown",
   "metadata": {},
   "source": [
    "Результатом проверки условия для массива является логический массив такой же формы с результатами поэлементной проверки условия.\n",
    "\n",
    "Если необходимо посчитать, сколько элементов удовлетворяют условию, можно воспользоваться тем, что `True` и `False` в арифметических операциях эквивалентны `1` и `0` соответственно."
   ]
  },
  {
   "cell_type": "code",
   "execution_count": 75,
   "metadata": {},
   "outputs": [
    {
     "name": "stdout",
     "output_type": "stream",
     "text": [
      "[False  True  True  True]\n",
      "3\n"
     ]
    }
   ],
   "source": [
    "true = (arr1 >= 18)\n",
    "print(true, true.sum(), sep='\\n') # Количество подходящих под условие элементов"
   ]
  },
  {
   "cell_type": "code",
   "execution_count": 76,
   "metadata": {},
   "outputs": [
    {
     "data": {
      "text/plain": [
       "0.75"
      ]
     },
     "execution_count": 76,
     "metadata": {},
     "output_type": "execute_result"
    }
   ],
   "source": [
    "true.mean() # Доля подходящих под условие элементов"
   ]
  },
  {
   "cell_type": "code",
   "execution_count": 77,
   "metadata": {},
   "outputs": [
    {
     "data": {
      "text/plain": [
       "4"
      ]
     },
     "execution_count": 77,
     "metadata": {},
     "output_type": "execute_result"
    }
   ],
   "source": [
    "(F > 5).sum() # Это работает для массивов любой размерности"
   ]
  },
  {
   "cell_type": "code",
   "execution_count": 78,
   "metadata": {},
   "outputs": [
    {
     "data": {
      "text/plain": [
       "array([1, 1, 2])"
      ]
     },
     "execution_count": 78,
     "metadata": {},
     "output_type": "execute_result"
    }
   ],
   "source": [
    "(F > 5).sum(axis=0) # Количество подходящих элементов по столбцам"
   ]
  },
  {
   "cell_type": "markdown",
   "metadata": {},
   "source": [
    "Для записи сложных условий можно использовать логические операции -  `&, |, ~`  - (И, ИЛИ, НЕ соответственно).   \n",
    "**Обратите внимание:** При комбинировании условий их обязательно надо брать в скобки."
   ]
  },
  {
   "cell_type": "code",
   "execution_count": 79,
   "metadata": {},
   "outputs": [
    {
     "name": "stdout",
     "output_type": "stream",
     "text": [
      "[10 20 25 32]\n",
      "[False  True  True False]\n"
     ]
    }
   ],
   "source": [
    "print(arr1)\n",
    "print((arr1 >= 18) & (arr1 < 30))"
   ]
  },
  {
   "cell_type": "code",
   "execution_count": 80,
   "metadata": {},
   "outputs": [
    {
     "name": "stdout",
     "output_type": "stream",
     "text": [
      "[10 20 25 32]\n",
      "[ True False False False]\n"
     ]
    }
   ],
   "source": [
    "print(arr1)\n",
    "print(~(arr1 >= 18))"
   ]
  },
  {
   "cell_type": "code",
   "execution_count": 81,
   "metadata": {},
   "outputs": [
    {
     "name": "stdout",
     "output_type": "stream",
     "text": [
      "[[1 2 3]\n",
      " [4 5 6]\n",
      " [7 8 9]]\n",
      "[[ True  True False]\n",
      " [False False False]\n",
      " [False  True  True]]\n"
     ]
    }
   ],
   "source": [
    "print(F)\n",
    "print((F < 3) | (F > 7))"
   ]
  },
  {
   "cell_type": "markdown",
   "metadata": {},
   "source": [
    "### Логическое индексирование\n",
    "\n",
    "Логические массивы, которые получаются в результате проверки условий, можно использовать для выбора элементов. Это называется **логическое индексирование** (Boolean indexing) и широко используется при анализе данных."
   ]
  },
  {
   "cell_type": "code",
   "execution_count": 82,
   "metadata": {},
   "outputs": [
    {
     "name": "stdout",
     "output_type": "stream",
     "text": [
      "[10 20 25 32]\n",
      "[False  True  True  True]\n",
      "[20 25 32]\n"
     ]
    }
   ],
   "source": [
    "print(arr1, arr1 >= 18, sep='\\n')\n",
    "\n",
    "print(arr1[arr1 >= 18])"
   ]
  },
  {
   "cell_type": "code",
   "execution_count": 83,
   "metadata": {},
   "outputs": [
    {
     "name": "stdout",
     "output_type": "stream",
     "text": [
      "['Петя' 'Вася' 'Маша' 'Ричард']\n",
      "[False  True  True  True]\n",
      "Могут купить пиво:  ['Вася' 'Маша' 'Ричард']\n"
     ]
    }
   ],
   "source": [
    "names = np.array(['Петя', 'Вася', 'Маша', 'Ричард'])\n",
    "print(names)\n",
    "print(arr1 > 18)\n",
    "print(\"Могут купить пиво: \", names[arr1 >= 18])\n"
   ]
  },
  {
   "cell_type": "markdown",
   "metadata": {},
   "source": [
    "Выбранные с помощью логического индексирования элементы можно не только читать, но и перезаписывать:"
   ]
  },
  {
   "cell_type": "code",
   "execution_count": 84,
   "metadata": {},
   "outputs": [
    {
     "name": "stdout",
     "output_type": "stream",
     "text": [
      "[10  0  0  0]\n"
     ]
    }
   ],
   "source": [
    "arr4 = arr1.copy()\n",
    "arr4[arr4 >= 18] = 0\n",
    "print(arr4)"
   ]
  },
  {
   "cell_type": "markdown",
   "metadata": {},
   "source": [
    "Аналогом условной операции Python или функции `ЕСЛИ()` в Excel в `numpy` является функция `np.where()`.\n",
    "Она применяет к ячейке массива формулу, в зависимости от истинности заданного условия."
   ]
  },
  {
   "cell_type": "code",
   "execution_count": 85,
   "metadata": {},
   "outputs": [
    {
     "name": "stdout",
     "output_type": "stream",
     "text": [
      "F:\n",
      "[[1 2 3]\n",
      " [4 5 6]\n",
      " [7 8 9]]\n",
      "\n",
      "Условие F > 5:\n",
      "[[False False False]\n",
      " [False False  True]\n",
      " [ True  True  True]]\n",
      "\n",
      "Условное вычисление: \n",
      "[[ 1  2  3]\n",
      " [ 4  5 60]\n",
      " [70 80 90]]\n",
      "\n"
     ]
    }
   ],
   "source": [
    "print('F:', F, sep='\\n', end='\\n\\n')\n",
    "print('Условие F > 5:', F > 5,  sep='\\n', end='\\n\\n')\n",
    "\n",
    "print('Условное вычисление: ', \n",
    "      np.where(F > 5, F * 10, F), \n",
    "      sep='\\n', end='\\n\\n') # Все элементы, большие чем 5, увеличены в 10 раз"
   ]
  }
 ],
 "metadata": {
  "hide_input": false,
  "kernelspec": {
   "display_name": "Python 3",
   "language": "python",
   "name": "python3"
  },
  "language_info": {
   "codemirror_mode": {
    "name": "ipython",
    "version": 3
   },
   "file_extension": ".py",
   "mimetype": "text/x-python",
   "name": "python",
   "nbconvert_exporter": "python",
   "pygments_lexer": "ipython3",
   "version": "3.8.3"
  },
  "latex_envs": {
   "bibliofile": "biblio.bib",
   "cite_by": "apalike",
   "current_citInitial": 1,
   "eqLabelWithNumbers": true,
   "eqNumInitial": 0
  },
  "toc": {
   "nav_menu": {},
   "number_sections": false,
   "sideBar": true,
   "skip_h1_title": false,
   "toc_cell": false,
   "toc_position": {},
   "toc_section_display": "block",
   "toc_window_display": false
  },
  "varInspector": {
   "cols": {
    "lenName": 16,
    "lenType": 16,
    "lenVar": 40
   },
   "kernels_config": {
    "python": {
     "delete_cmd_postfix": "",
     "delete_cmd_prefix": "del ",
     "library": "var_list.py",
     "varRefreshCmd": "print(var_dic_list())"
    },
    "r": {
     "delete_cmd_postfix": ") ",
     "delete_cmd_prefix": "rm(",
     "library": "var_list.r",
     "varRefreshCmd": "cat(var_dic_list()) "
    }
   },
   "types_to_exclude": [
    "module",
    "function",
    "builtin_function_or_method",
    "instance",
    "_Feature"
   ],
   "window_display": false
  }
 },
 "nbformat": 4,
 "nbformat_minor": 1
}
