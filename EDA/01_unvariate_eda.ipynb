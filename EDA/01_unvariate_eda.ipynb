{
 "cells": [
  {
   "cell_type": "markdown",
   "metadata": {},
   "source": [
    "# Разведочный анализ данных: одномерные методы\n",
    "\n",
    "\n",
    "**Разведочный анализ данных** (англ. **exploratory data analysis**, **EDA**) — анализ основных свойств данных, нахождение в них общих закономерностей, распределений и аномалий, построение начальных моделей, зачастую с использованием инструментов визуализации.\n",
    "\n",
    "Понятие введено математиком Джоном Тьюки, который сформулировал цели такого анализа следующим образом:\n",
    "\n",
    "- максимальное «проникновение» в данные,  \n",
    "- выявление основных структур,  \n",
    "- выбор наиболее важных переменных,  \n",
    "- обнаружение отклонений и аномалий,  \n",
    "- проверка основных гипотез,  \n",
    "- разработка начальных моделей.\n",
    "\n",
    "\n",
    "Основные средства разведочного анализа — изучение вероятностных распределений переменных, построение и анализ корреляционных матриц, факторный анализ, дискриминантный анализ, многомерное шкалирование.\n",
    "\n",
    "В этом блокноте вы познакомитесь с простыми методами разведочного анализа для изучения отдельных переменных и сравнения групп.\n",
    "\n",
    "\n",
    "## Ресурсы\n",
    "\n",
    "* Визуализация в Pandas https://pandas.pydata.org/pandas-docs/stable/user_guide/visualization.html\n",
    "* Документация Seaborn http://seaborn.pydata.org/tutorial.html\n",
    "* Галерея графиков Matplotlib https://matplotlib.org/gallery/index.html\n",
    "* Python Plotting for Exploratory Analysis https://pythonplot.com/\n",
    "* A Dramatic Tour through Python’s Data Visualization Landscape (including ggplot and Altair) [ссылка](https://dsaber.com/2016/10/02/a-dramatic-tour-through-pythons-data-visualization-landscape-including-ggplot-and-altair/)\n",
    "* Глава 4 книги Дж. Вандер Плас Python для сложных задач. Наука о данных и машинное обучение\n",
    "* Эта же глава в виде [блокнота](https://jakevdp.github.io/PythonDataScienceHandbook/04.00-introduction-to-matplotlib.html)\n",
    "* Глава 9 книги Уэса Маккини Python и анализ данных, 2-е издание\n",
    "\n",
    "\n",
    "Классные ресурсы по выбору способов визуализаций + примеры:\n",
    "* https://www.data-to-viz.com/  \n",
    "* https://datavizproject.com/  \n",
    "* https://datavizcatalogue.com/RU/\n",
    "* https://datayoga.ru/vizcards#catalogue"
   ]
  },
  {
   "cell_type": "code",
   "execution_count": 1,
   "metadata": {},
   "outputs": [
    {
     "data": {
      "text/html": [
       "<div>\n",
       "<style scoped>\n",
       "    .dataframe tbody tr th:only-of-type {\n",
       "        vertical-align: middle;\n",
       "    }\n",
       "\n",
       "    .dataframe tbody tr th {\n",
       "        vertical-align: top;\n",
       "    }\n",
       "\n",
       "    .dataframe thead th {\n",
       "        text-align: right;\n",
       "    }\n",
       "</style>\n",
       "<table border=\"1\" class=\"dataframe\">\n",
       "  <thead>\n",
       "    <tr style=\"text-align: right;\">\n",
       "      <th></th>\n",
       "      <th>manufacturer</th>\n",
       "      <th>model</th>\n",
       "      <th>displ</th>\n",
       "      <th>year</th>\n",
       "      <th>cyl</th>\n",
       "      <th>trans</th>\n",
       "      <th>drv</th>\n",
       "      <th>cty</th>\n",
       "      <th>hwy</th>\n",
       "      <th>fl</th>\n",
       "      <th>class</th>\n",
       "    </tr>\n",
       "  </thead>\n",
       "  <tbody>\n",
       "    <tr>\n",
       "      <th>0</th>\n",
       "      <td>audi</td>\n",
       "      <td>a4</td>\n",
       "      <td>1.8</td>\n",
       "      <td>1999</td>\n",
       "      <td>4</td>\n",
       "      <td>auto(l5)</td>\n",
       "      <td>f</td>\n",
       "      <td>18</td>\n",
       "      <td>29</td>\n",
       "      <td>p</td>\n",
       "      <td>compact</td>\n",
       "    </tr>\n",
       "    <tr>\n",
       "      <th>1</th>\n",
       "      <td>audi</td>\n",
       "      <td>a4</td>\n",
       "      <td>1.8</td>\n",
       "      <td>1999</td>\n",
       "      <td>4</td>\n",
       "      <td>manual(m5)</td>\n",
       "      <td>f</td>\n",
       "      <td>21</td>\n",
       "      <td>29</td>\n",
       "      <td>p</td>\n",
       "      <td>compact</td>\n",
       "    </tr>\n",
       "    <tr>\n",
       "      <th>2</th>\n",
       "      <td>audi</td>\n",
       "      <td>a4</td>\n",
       "      <td>2.0</td>\n",
       "      <td>2008</td>\n",
       "      <td>4</td>\n",
       "      <td>manual(m6)</td>\n",
       "      <td>f</td>\n",
       "      <td>20</td>\n",
       "      <td>31</td>\n",
       "      <td>p</td>\n",
       "      <td>compact</td>\n",
       "    </tr>\n",
       "    <tr>\n",
       "      <th>3</th>\n",
       "      <td>audi</td>\n",
       "      <td>a4</td>\n",
       "      <td>2.0</td>\n",
       "      <td>2008</td>\n",
       "      <td>4</td>\n",
       "      <td>auto(av)</td>\n",
       "      <td>f</td>\n",
       "      <td>21</td>\n",
       "      <td>30</td>\n",
       "      <td>p</td>\n",
       "      <td>compact</td>\n",
       "    </tr>\n",
       "    <tr>\n",
       "      <th>4</th>\n",
       "      <td>audi</td>\n",
       "      <td>a4</td>\n",
       "      <td>2.8</td>\n",
       "      <td>1999</td>\n",
       "      <td>6</td>\n",
       "      <td>auto(l5)</td>\n",
       "      <td>f</td>\n",
       "      <td>16</td>\n",
       "      <td>26</td>\n",
       "      <td>p</td>\n",
       "      <td>compact</td>\n",
       "    </tr>\n",
       "  </tbody>\n",
       "</table>\n",
       "</div>"
      ],
      "text/plain": [
       "  manufacturer model  displ  year  cyl       trans drv  cty  hwy fl    class\n",
       "0         audi    a4    1.8  1999    4    auto(l5)   f   18   29  p  compact\n",
       "1         audi    a4    1.8  1999    4  manual(m5)   f   21   29  p  compact\n",
       "2         audi    a4    2.0  2008    4  manual(m6)   f   20   31  p  compact\n",
       "3         audi    a4    2.0  2008    4    auto(av)   f   21   30  p  compact\n",
       "4         audi    a4    2.8  1999    6    auto(l5)   f   16   26  p  compact"
      ]
     },
     "execution_count": 1,
     "metadata": {},
     "output_type": "execute_result"
    }
   ],
   "source": [
    "import pandas as pd\n",
    "import numpy as np\n",
    "import matplotlib.pyplot as plt\n",
    "import seaborn as sns # Пакет для построения статистических графиков и разведочного анализа\n",
    "%matplotlib inline\n",
    "\n",
    "mpg = pd.read_csv('../datasets/mpg.csv')\n",
    "mpg.head(5)"
   ]
  },
  {
   "cell_type": "markdown",
   "metadata": {},
   "source": [
    "Мы загрузили данные о расходе топлива автомобилями разных марок и годов производства. Столбцы таблицы обозначают:\n",
    "\n",
    " - `manufacturer` - марка машины\n",
    " - `model` - модель\n",
    " - `displ` - объем двигателя в л\n",
    " - `year` - год выпуска\n",
    " - `cyl` - количество цилиндров\n",
    " - `trans` - тип трансмиссии (ручная или автоматическая коробка передач)\n",
    " - `drv` - тип привода (`f` - передний, `r` - задний, `4` - полный)\n",
    " - `cty` - пробег на 1 галлоне топлива (~4 л) в городе\n",
    " - `cty` - пробег на 1 галлоне топлива на трассе\n",
    " - `fl` - тип топлива\n",
    " - `class` - класс машины\n",
    " \n",
    "Загруженный набор данных доступен в виде объекта `mpg`. Тип объекта - `DataFrame` (датафрейм, или просто таблица данных)."
   ]
  },
  {
   "cell_type": "markdown",
   "metadata": {},
   "source": [
    "## Описательные статистики\n",
    "\n",
    "### Для количественных данных\n",
    "[Описательные статистики](http://statistica.ru/glossary/general/opisatelnye-statistiki/) помогают с помощью короткой числовой сводки охарактеризовать форму распределения количественных данных.\n",
    "\n",
    "Наиболее распространенные:\n",
    "\n",
    "- **количество наблюдений** (count), позволяющее оценить объем выборки данных;\n",
    "- **характеристики центра** распределения - **среднее** (mean) и **медиана** (median);  \n",
    "- **характеристики разброса** значений - **минимум**, **максимум**, **стандартное отклонение** (standard deviation, std);\n",
    "- **характеристики формы** распределения - **ассиметрия** (skew) и **эксцесс** (kurtosis), а также **квартили** (quartiles)\n",
    "\n",
    "\n",
    "На рисунке показаны три распределения с одинаковым центром, но разным **стандартным отклонением**: $\\sigma_1 < \\sigma_2 <\\sigma_3$\n",
    "\n",
    "![](pics/stdev.png)\n",
    "\n",
    "\n",
    "На рисунке показаны три распределения с разной **асимметрией**:\n",
    "\n",
    "![](pics/descriptives.png)\n",
    "\n",
    "Нулевая асимметрия (слева на рисунке) означает, что распределение симметрично относительно центра. Положительная асимметрия (в центре рисунка) говорит о том, что у распределения есть длинный правый хвост - редкие большие значения. В этом случае также говорят, что распределение скошено вправо. Отрицательная асимметрия говорит о том, что хвост распределения уходит в область малых и отрицательных значений, - распределение скошено влево.\n",
    "\n",
    "**Эксцесс** характеризует степень плосковершинности распределения. Нулевой эксцесс у нормального распределение, а увеличение эксцесса означает большую сконцентрированность значений вблизи центра, более высокий пик распределения:\n",
    "\n",
    "![](pics/kurtosis.png)\n",
    "\n",
    "**Квартили** (25% - нижний, 50% - медиана, 75% - верхний) - это значения, которые разбивают ранжированный по возрастанию значений ряд на 4 равные по количеству наблюдений части. Медиана используется как характеристика положения центра распределения, а верхний и нижний квартили позволяют понять, в каком диапазоне сконцентрирована половина наблюдаемых значений.\n",
    "\n",
    "Фраза: *\"3-й квартиль продолжительности жизни в стране равен 70 годам\"* означает, что 75% людей не доживает до этого возраста, а 25% людей живут 70 лет и дольше.\n",
    "\n",
    "\n",
    "![](pics/quartiles.png)\n",
    "\n",
    "\n",
    "\n",
    "Таблицы `pandas` содержат метод `describe()`, вычисляющий описательные статистики для количественных переменных:"
   ]
  },
  {
   "cell_type": "markdown",
   "metadata": {},
   "source": [
    "В `pandas` можно быстро получить сводку по всем числовым столбцам в таблице данных с помощью метода `describe()`"
   ]
  },
  {
   "cell_type": "code",
   "execution_count": 2,
   "metadata": {},
   "outputs": [
    {
     "data": {
      "text/html": [
       "<div>\n",
       "<style scoped>\n",
       "    .dataframe tbody tr th:only-of-type {\n",
       "        vertical-align: middle;\n",
       "    }\n",
       "\n",
       "    .dataframe tbody tr th {\n",
       "        vertical-align: top;\n",
       "    }\n",
       "\n",
       "    .dataframe thead th {\n",
       "        text-align: right;\n",
       "    }\n",
       "</style>\n",
       "<table border=\"1\" class=\"dataframe\">\n",
       "  <thead>\n",
       "    <tr style=\"text-align: right;\">\n",
       "      <th></th>\n",
       "      <th>displ</th>\n",
       "      <th>year</th>\n",
       "      <th>cyl</th>\n",
       "      <th>cty</th>\n",
       "      <th>hwy</th>\n",
       "    </tr>\n",
       "  </thead>\n",
       "  <tbody>\n",
       "    <tr>\n",
       "      <th>count</th>\n",
       "      <td>234.0</td>\n",
       "      <td>234.0</td>\n",
       "      <td>234.0</td>\n",
       "      <td>234.0</td>\n",
       "      <td>234.0</td>\n",
       "    </tr>\n",
       "    <tr>\n",
       "      <th>mean</th>\n",
       "      <td>3.5</td>\n",
       "      <td>2003.5</td>\n",
       "      <td>5.9</td>\n",
       "      <td>16.9</td>\n",
       "      <td>23.4</td>\n",
       "    </tr>\n",
       "    <tr>\n",
       "      <th>std</th>\n",
       "      <td>1.3</td>\n",
       "      <td>4.5</td>\n",
       "      <td>1.6</td>\n",
       "      <td>4.3</td>\n",
       "      <td>6.0</td>\n",
       "    </tr>\n",
       "    <tr>\n",
       "      <th>min</th>\n",
       "      <td>1.6</td>\n",
       "      <td>1999.0</td>\n",
       "      <td>4.0</td>\n",
       "      <td>9.0</td>\n",
       "      <td>12.0</td>\n",
       "    </tr>\n",
       "    <tr>\n",
       "      <th>25%</th>\n",
       "      <td>2.4</td>\n",
       "      <td>1999.0</td>\n",
       "      <td>4.0</td>\n",
       "      <td>14.0</td>\n",
       "      <td>18.0</td>\n",
       "    </tr>\n",
       "    <tr>\n",
       "      <th>50%</th>\n",
       "      <td>3.3</td>\n",
       "      <td>2003.5</td>\n",
       "      <td>6.0</td>\n",
       "      <td>17.0</td>\n",
       "      <td>24.0</td>\n",
       "    </tr>\n",
       "    <tr>\n",
       "      <th>75%</th>\n",
       "      <td>4.6</td>\n",
       "      <td>2008.0</td>\n",
       "      <td>8.0</td>\n",
       "      <td>19.0</td>\n",
       "      <td>27.0</td>\n",
       "    </tr>\n",
       "    <tr>\n",
       "      <th>max</th>\n",
       "      <td>7.0</td>\n",
       "      <td>2008.0</td>\n",
       "      <td>8.0</td>\n",
       "      <td>35.0</td>\n",
       "      <td>44.0</td>\n",
       "    </tr>\n",
       "  </tbody>\n",
       "</table>\n",
       "</div>"
      ],
      "text/plain": [
       "       displ    year    cyl    cty    hwy\n",
       "count  234.0   234.0  234.0  234.0  234.0\n",
       "mean     3.5  2003.5    5.9   16.9   23.4\n",
       "std      1.3     4.5    1.6    4.3    6.0\n",
       "min      1.6  1999.0    4.0    9.0   12.0\n",
       "25%      2.4  1999.0    4.0   14.0   18.0\n",
       "50%      3.3  2003.5    6.0   17.0   24.0\n",
       "75%      4.6  2008.0    8.0   19.0   27.0\n",
       "max      7.0  2008.0    8.0   35.0   44.0"
      ]
     },
     "execution_count": 2,
     "metadata": {},
     "output_type": "execute_result"
    }
   ],
   "source": [
    "mpg.describe().round(1)"
   ]
  },
  {
   "cell_type": "markdown",
   "metadata": {},
   "source": [
    "Здесь мы видим, например, что распределение объемов двигателей `displ` немного асимметрично, среднее смещено вправо относительно медианы (50% квартиля), а в случае с `hwy` среднее, наоборот, немного смещено влево по отношению к медиане.\n",
    "\n",
    "Квартили показывают, что центральные 50% значений переменной `displ` находятся в интервале от 2.4 до 4.6 литров, а наибольший и наименьший объемы двигателей - 7 и 1.6 литров соответственно (max и min).\n",
    "\n",
    "Квартили показывают, что центральные 50% значений переменной `hwy` находятся в интервале от 18 до 27 миль/галлон, а наибольший и пробег - 44 и 12 миль соответственно (max и min)."
   ]
  },
  {
   "cell_type": "markdown",
   "metadata": {},
   "source": [
    "В сводке нет информации об асимметрии, но мы можем ее вычислить с помощью метода `skew()`:"
   ]
  },
  {
   "cell_type": "code",
   "execution_count": 3,
   "metadata": {},
   "outputs": [
    {
     "data": {
      "text/plain": [
       "displ    0.444316\n",
       "hwy      0.369236\n",
       "dtype: float64"
      ]
     },
     "execution_count": 3,
     "metadata": {},
     "output_type": "execute_result"
    }
   ],
   "source": [
    "mpg[['displ', 'hwy']].skew()"
   ]
  },
  {
   "cell_type": "markdown",
   "metadata": {},
   "source": [
    "Оба столбца имеют небольшую положительную асимметрию, т.е. правый хвост."
   ]
  },
  {
   "cell_type": "markdown",
   "metadata": {},
   "source": [
    "Анализируя описательные статистики, можно примерно представить себе форму распределения данных. Но лучше посмотреть на нее воочию, визуализировав данные. Библиотека `pandas` умеет строить быстрые визуализации данных в таблице. Посмотрим как выглядит распределение данных с помощью гистограммы.\n",
    "\n",
    "Данные по объему двигателей:"
   ]
  },
  {
   "cell_type": "code",
   "execution_count": 4,
   "metadata": {},
   "outputs": [
    {
     "data": {
      "image/png": "[encoded data removed]",
      "text/plain": [
       "<Figure size 432x288 with 1 Axes>"
      ]
     },
     "metadata": {
      "needs_background": "light"
     },
     "output_type": "display_data"
    }
   ],
   "source": [
    "ax = mpg['displ'].hist()\n",
    "ax.axvline(mpg['displ'].mean(), color = 'red', label='Среднее')\n",
    "ax.axvline(mpg['displ'].median(), color = 'orange', label='Медиана')\n",
    "ax.legend();\n",
    "ax.set_title('Распределение объема двигателя (displ)');"
   ]
  },
  {
   "cell_type": "markdown",
   "metadata": {},
   "source": [
    "Данные по пробегу на галлоне на трассе:"
   ]
  },
  {
   "cell_type": "code",
   "execution_count": 5,
   "metadata": {},
   "outputs": [
    {
     "data": {
      "image/png": "[encoded data removed]",
      "text/plain": [
       "<Figure size 432x288 with 1 Axes>"
      ]
     },
     "metadata": {
      "needs_background": "light"
     },
     "output_type": "display_data"
    }
   ],
   "source": [
    "ax = mpg['hwy'].hist()\n",
    "ax.axvline(mpg['hwy'].mean(), color = 'red', label='Среднее')\n",
    "ax.axvline(mpg['hwy'].median(), color = 'orange', label='Медиана')\n",
    "ax.legend();\n",
    "ax.set_title('Распределение пробега на галлоне в городе (cty)');"
   ]
  },
  {
   "cell_type": "markdown",
   "metadata": {},
   "source": [
    "С распределением `displ` мы угадали на основе описательных статистик, а вот с распределением `cty` ситуация неоднозначная. Распределение не такое скошенное, но видно, что есть выбросы. Визуализация помогает окончательно разобраться, что происходит в данных."
   ]
  },
  {
   "cell_type": "markdown",
   "metadata": {},
   "source": [
    "В `pandas` есть следующие мтеоды для вычисления описательных статистик:\n",
    "![pics](pics/pandas-descriptives.png)"
   ]
  },
  {
   "cell_type": "markdown",
   "metadata": {},
   "source": [
    "Методы можно применять как к столбцам, так и к строкам. По умолчанию методы пропускают неизвестные значения `na`. При необходимости, можно отключить это поведение аргументом `skipna=False`."
   ]
  },
  {
   "cell_type": "code",
   "execution_count": 6,
   "metadata": {},
   "outputs": [
    {
     "data": {
      "text/plain": [
       "displ       3.471795\n",
       "year     2003.500000\n",
       "cyl         5.888889\n",
       "cty        16.858974\n",
       "hwy        23.440171\n",
       "dtype: float64"
      ]
     },
     "execution_count": 6,
     "metadata": {},
     "output_type": "execute_result"
    }
   ],
   "source": [
    "mpg.mean() # Среднее всех количественных переменных"
   ]
  },
  {
   "cell_type": "code",
   "execution_count": 7,
   "metadata": {},
   "outputs": [
    {
     "data": {
      "text/plain": [
       "displ    0.444316\n",
       "year     0.000000\n",
       "cyl      0.113800\n",
       "cty      0.796561\n",
       "hwy      0.369236\n",
       "dtype: float64"
      ]
     },
     "execution_count": 7,
     "metadata": {},
     "output_type": "execute_result"
    }
   ],
   "source": [
    "mpg.skew() # Асимметрия всех количественных переменных"
   ]
  },
  {
   "cell_type": "code",
   "execution_count": 8,
   "metadata": {},
   "outputs": [
    {
     "data": {
      "text/plain": [
       "17.0"
      ]
     },
     "execution_count": 8,
     "metadata": {},
     "output_type": "execute_result"
    }
   ],
   "source": [
    "mpg['cty'].median() # Медиана столбца cty"
   ]
  },
  {
   "cell_type": "markdown",
   "metadata": {},
   "source": [
    "### Для категориальных данных\n",
    "\n",
    "Для категориальных данных рассмотренные выше описательные статистики не применяются, т.к. их значения - это не числа. Чаще всего это текстовые значения - например, названия продуктов или категорий. Для таких данных применяется подсчет частот отдельных значений. Мы можем оценить, насколько часто встречаются те или иные категории в данных. Самое частое значение называется **модой**."
   ]
  },
  {
   "cell_type": "code",
   "execution_count": 9,
   "metadata": {},
   "outputs": [
    {
     "data": {
      "text/plain": [
       "dodge         37\n",
       "toyota        34\n",
       "volkswagen    27\n",
       "ford          25\n",
       "chevrolet     19\n",
       "audi          18\n",
       "hyundai       14\n",
       "subaru        14\n",
       "nissan        13\n",
       "honda          9\n",
       "jeep           8\n",
       "pontiac        5\n",
       "land rover     4\n",
       "mercury        4\n",
       "lincoln        3\n",
       "Name: manufacturer, dtype: int64"
      ]
     },
     "execution_count": 9,
     "metadata": {},
     "output_type": "execute_result"
    }
   ],
   "source": [
    "mpg['manufacturer'].value_counts()"
   ]
  },
  {
   "cell_type": "markdown",
   "metadata": {},
   "source": [
    "Эти результаты можно нарисовать с помощью столбиковой диаграммы:"
   ]
  },
  {
   "cell_type": "code",
   "execution_count": 10,
   "metadata": {},
   "outputs": [
    {
     "data": {
      "image/png": "[encoded data removed]",
      "text/plain": [
       "<Figure size 432x288 with 1 Axes>"
      ]
     },
     "metadata": {
      "needs_background": "light"
     },
     "output_type": "display_data"
    }
   ],
   "source": [
    "mpg['manufacturer'].value_counts().plot(kind='barh');"
   ]
  },
  {
   "cell_type": "markdown",
   "metadata": {},
   "source": [
    "Чтобы интерпретация результатов не зависела от количества наблюдений в таблице данных, лучше использовать **относительные частоты** (доля от общего числа наблюдений:"
   ]
  },
  {
   "cell_type": "code",
   "execution_count": 11,
   "metadata": {},
   "outputs": [
    {
     "data": {
      "text/plain": [
       "dodge         0.158120\n",
       "toyota        0.145299\n",
       "volkswagen    0.115385\n",
       "ford          0.106838\n",
       "chevrolet     0.081197\n",
       "audi          0.076923\n",
       "hyundai       0.059829\n",
       "subaru        0.059829\n",
       "nissan        0.055556\n",
       "honda         0.038462\n",
       "jeep          0.034188\n",
       "pontiac       0.021368\n",
       "land rover    0.017094\n",
       "mercury       0.017094\n",
       "lincoln       0.012821\n",
       "Name: manufacturer, dtype: float64"
      ]
     },
     "execution_count": 11,
     "metadata": {},
     "output_type": "execute_result"
    }
   ],
   "source": [
    "mpg['manufacturer'].value_counts(normalize=True)"
   ]
  },
  {
   "cell_type": "markdown",
   "metadata": {},
   "source": [
    "Для визуализации упорядочим категории по убыванию, чтобы самые частые значения были вверху на графике:"
   ]
  },
  {
   "cell_type": "code",
   "execution_count": 12,
   "metadata": {},
   "outputs": [
    {
     "data": {
      "image/png": "[encoded data removed]",
      "text/plain": [
       "<Figure size 432x288 with 1 Axes>"
      ]
     },
     "metadata": {
      "needs_background": "light"
     },
     "output_type": "display_data"
    }
   ],
   "source": [
    "mpg['manufacturer'].value_counts(normalize=True, ascending=True ).plot(kind='barh');"
   ]
  },
  {
   "cell_type": "markdown",
   "metadata": {},
   "source": [
    "## Визуализация распределений\n",
    "\n",
    "Рассмотрим несколько способов визуализации распределений\n",
    "\n",
    "### Гистограммы\n",
    "\n",
    "**Гистограмма** показывает частоту попадания значений в заданные интервалы на числовой оси. Важно, что в гистограмме эти интервалы идут подряд, потому что этот вид графика применяется для непрерывных данных. Гистограмму часто путают со столбиковой диаграммой, которая используется для отображения частот дискретных значений.\n",
    "\n",
    "Мы уже строили гистограммы при помощи pandas:"
   ]
  },
  {
   "cell_type": "code",
   "execution_count": 13,
   "metadata": {},
   "outputs": [
    {
     "data": {
      "image/png": "[encoded data removed]",
      "text/plain": [
       "<Figure size 432x288 with 1 Axes>"
      ]
     },
     "metadata": {
      "needs_background": "light"
     },
     "output_type": "display_data"
    }
   ],
   "source": [
    "mpg['displ'].hist(bins=6);"
   ]
  },
  {
   "cell_type": "markdown",
   "metadata": {},
   "source": [
    "Так можно построить гистограмму по таблице данных средствами matplotlib:"
   ]
  },
  {
   "cell_type": "code",
   "execution_count": 14,
   "metadata": {},
   "outputs": [
    {
     "data": {
      "image/png": "[encoded data removed]",
      "text/plain": [
       "<Figure size 432x288 with 1 Axes>"
      ]
     },
     "metadata": {
      "needs_background": "light"
     },
     "output_type": "display_data"
    }
   ],
   "source": [
    "plt.hist('displ', data=mpg, bins=6);"
   ]
  },
  {
   "cell_type": "markdown",
   "metadata": {},
   "source": [
    "Гистограммы можно строить и с помощью пакета seaborn:"
   ]
  },
  {
   "cell_type": "code",
   "execution_count": 15,
   "metadata": {},
   "outputs": [
    {
     "data": {
      "image/png": "[encoded data removed]",
      "text/plain": [
       "<Figure size 432x288 with 1 Axes>"
      ]
     },
     "metadata": {
      "needs_background": "light"
     },
     "output_type": "display_data"
    }
   ],
   "source": [
    "sns.distplot(mpg['displ'], bins=6);"
   ]
  },
  {
   "cell_type": "markdown",
   "metadata": {},
   "source": [
    "Seaborn помимо столбиков выводит еще сглаженную кривую для оценки плотности распределения (**kernel density estimate, kde**). При необходимости ее можн отключить:"
   ]
  },
  {
   "cell_type": "code",
   "execution_count": 16,
   "metadata": {},
   "outputs": [
    {
     "data": {
      "image/png": "[encoded data removed]",
      "text/plain": [
       "<Figure size 432x288 with 1 Axes>"
      ]
     },
     "metadata": {
      "needs_background": "light"
     },
     "output_type": "display_data"
    }
   ],
   "source": [
    "sns.distplot(mpg['displ'], bins=6, kde=False);"
   ]
  },
  {
   "cell_type": "markdown",
   "metadata": {},
   "source": [
    "Или, наоборот, оставить только плотность, что удобно для сравнения распределений:"
   ]
  },
  {
   "cell_type": "code",
   "execution_count": 17,
   "metadata": {},
   "outputs": [
    {
     "data": {
      "image/png": "[encoded data removed]",
      "text/plain": [
       "<Figure size 432x288 with 1 Axes>"
      ]
     },
     "metadata": {
      "needs_background": "light"
     },
     "output_type": "display_data"
    }
   ],
   "source": [
    "sns.distplot(mpg['cty'], bins=6, hist=False)\n",
    "sns.distplot(mpg['hwy'], bins=6, hist=False);"
   ]
  },
  {
   "cell_type": "markdown",
   "metadata": {},
   "source": [
    "### Ящичные диаграммы\n",
    "\n",
    "**Ящичная диаграмма** (ящик с усами, box plot, box and whisker plot) позволяет компактно передать основные характеристики распределения данных - медиану, область наиболее типичных значений, наличие выбросов в данных.\n",
    "\n",
    "![](pics/boxplot.png)\n"
   ]
  },
  {
   "cell_type": "markdown",
   "metadata": {},
   "source": [
    "Ящичная диаграмма средствами matplotlib:"
   ]
  },
  {
   "cell_type": "code",
   "execution_count": 18,
   "metadata": {},
   "outputs": [
    {
     "data": {
      "image/png": "[encoded data removed]",
      "text/plain": [
       "<Figure size 432x288 with 1 Axes>"
      ]
     },
     "metadata": {
      "needs_background": "light"
     },
     "output_type": "display_data"
    }
   ],
   "source": [
    "plt.boxplot([mpg['cty'], mpg['hwy']], labels=['MPG\\ncity', 'MPG\\nhighway']);"
   ]
  },
  {
   "cell_type": "markdown",
   "metadata": {},
   "source": [
    "Ящичная диаграмма через pandas:"
   ]
  },
  {
   "cell_type": "code",
   "execution_count": 19,
   "metadata": {},
   "outputs": [
    {
     "data": {
      "image/png": "[encoded data removed]",
      "text/plain": [
       "<Figure size 432x288 with 1 Axes>"
      ]
     },
     "metadata": {
      "needs_background": "light"
     },
     "output_type": "display_data"
    }
   ],
   "source": [
    "mpg.boxplot(column=['cty', 'hwy']);"
   ]
  },
  {
   "cell_type": "code",
   "execution_count": 20,
   "metadata": {},
   "outputs": [
    {
     "data": {
      "image/png": "[encoded data removed]",
      "text/plain": [
       "<Figure size 432x288 with 1 Axes>"
      ]
     },
     "metadata": {
      "needs_background": "light"
     },
     "output_type": "display_data"
    }
   ],
   "source": [
    "mpg.boxplot(column='cty', by='class')\n",
    "plt.title('');"
   ]
  },
  {
   "cell_type": "code",
   "execution_count": 21,
   "metadata": {},
   "outputs": [
    {
     "data": {
      "image/png": "[encoded data removed]",
      "text/plain": [
       "<Figure size 432x288 with 1 Axes>"
      ]
     },
     "metadata": {
      "needs_background": "light"
     },
     "output_type": "display_data"
    }
   ],
   "source": [
    "mpg.boxplot(column='cty', by='class', vert=False)\n",
    "plt.title('');"
   ]
  },
  {
   "cell_type": "markdown",
   "metadata": {},
   "source": [
    "В Seaborn:"
   ]
  },
  {
   "cell_type": "code",
   "execution_count": 22,
   "metadata": {},
   "outputs": [
    {
     "data": {
      "image/png": "[encoded data removed]",
      "text/plain": [
       "<Figure size 432x288 with 1 Axes>"
      ]
     },
     "metadata": {
      "needs_background": "light"
     },
     "output_type": "display_data"
    }
   ],
   "source": [
    "sns.boxplot('cty', data=mpg)\n",
    "plt.title('Пробег на 1 галлоне в городе');"
   ]
  },
  {
   "cell_type": "code",
   "execution_count": 23,
   "metadata": {},
   "outputs": [
    {
     "data": {
      "image/png": "[encoded data removed]",
      "text/plain": [
       "<Figure size 432x288 with 1 Axes>"
      ]
     },
     "metadata": {
      "needs_background": "light"
     },
     "output_type": "display_data"
    }
   ],
   "source": [
    "sns.boxplot(y = 'class', x='cty', data=mpg)\n",
    "plt.title('Пробег на 1 галлоне в городе');"
   ]
  },
  {
   "cell_type": "markdown",
   "metadata": {},
   "source": [
    "Ящичные диаграммы скрывают данные, поэтому в seaborn можно добавить на эту диаграмму сами данные:"
   ]
  },
  {
   "cell_type": "code",
   "execution_count": 24,
   "metadata": {},
   "outputs": [
    {
     "data": {
      "image/png": "[encoded data removed]",
      "text/plain": [
       "<Figure size 432x288 with 1 Axes>"
      ]
     },
     "metadata": {
      "needs_background": "light"
     },
     "output_type": "display_data"
    }
   ],
   "source": [
    "sns.boxplot(y = 'class', x='cty', data=mpg)\n",
    "sns.stripplot(y = 'class', x='cty', data=mpg, size=4)\n",
    "plt.title('Пробег на 1 галлоне в городе');"
   ]
  },
  {
   "cell_type": "markdown",
   "metadata": {},
   "source": [
    "Точки данных можно нанести и на гистограмму:"
   ]
  },
  {
   "cell_type": "code",
   "execution_count": 25,
   "metadata": {},
   "outputs": [
    {
     "data": {
      "image/png": "[encoded data removed]",
      "text/plain": [
       "<Figure size 432x288 with 1 Axes>"
      ]
     },
     "metadata": {
      "needs_background": "light"
     },
     "output_type": "display_data"
    }
   ],
   "source": [
    "sns.distplot(mpg['hwy'], bins=6, rug=True);"
   ]
  },
  {
   "cell_type": "markdown",
   "metadata": {},
   "source": [
    "Еще одна вариация на тему отображения данных - violin plot, гибрид ящичной диаграммы и плотности распределения:"
   ]
  },
  {
   "cell_type": "code",
   "execution_count": 26,
   "metadata": {},
   "outputs": [
    {
     "data": {
      "image/png": "[encoded data removed]",
      "text/plain": [
       "<Figure size 432x288 with 1 Axes>"
      ]
     },
     "metadata": {
      "needs_background": "light"
     },
     "output_type": "display_data"
    }
   ],
   "source": [
    "sns.violinplot('cty', data=mpg);"
   ]
  },
  {
   "cell_type": "markdown",
   "metadata": {},
   "source": [
    "## Столбиковые диаграммы\n",
    "\n",
    "Столбиковые диаграммы используются для отображения групповых частот для категориальных данных.\n",
    "\n",
    "Столбики с частотами в pandas:"
   ]
  },
  {
   "cell_type": "code",
   "execution_count": 27,
   "metadata": {},
   "outputs": [
    {
     "data": {
      "image/png": "[encoded data removed]",
      "text/plain": [
       "<Figure size 432x288 with 1 Axes>"
      ]
     },
     "metadata": {
      "needs_background": "light"
     },
     "output_type": "display_data"
    }
   ],
   "source": [
    "mpg['manufacturer'].value_counts(ascending=True).plot(kind='barh');"
   ]
  },
  {
   "cell_type": "markdown",
   "metadata": {},
   "source": [
    "Еще один способ получить столбики с частотами - использовать `groubpy()`:"
   ]
  },
  {
   "cell_type": "code",
   "execution_count": 28,
   "metadata": {},
   "outputs": [
    {
     "data": {
      "text/plain": [
       "manufacturer\n",
       "audi          18\n",
       "chevrolet     19\n",
       "dodge         37\n",
       "ford          25\n",
       "honda          9\n",
       "hyundai       14\n",
       "jeep           8\n",
       "land rover     4\n",
       "lincoln        3\n",
       "mercury        4\n",
       "nissan        13\n",
       "pontiac        5\n",
       "subaru        14\n",
       "toyota        34\n",
       "volkswagen    27\n",
       "Name: model, dtype: int64"
      ]
     },
     "execution_count": 28,
     "metadata": {},
     "output_type": "execute_result"
    }
   ],
   "source": [
    "mpg_manuf_grouped=mpg.groupby('manufacturer').count()['model']\n",
    "mpg_manuf_grouped"
   ]
  },
  {
   "cell_type": "code",
   "execution_count": 29,
   "metadata": {},
   "outputs": [
    {
     "data": {
      "image/png": "[encoded data removed]",
      "text/plain": [
       "<Figure size 432x288 with 1 Axes>"
      ]
     },
     "metadata": {
      "needs_background": "light"
     },
     "output_type": "display_data"
    }
   ],
   "source": [
    "mpg_manuf_grouped.plot(kind='barh');"
   ]
  },
  {
   "cell_type": "markdown",
   "metadata": {},
   "source": [
    "Лучше упорядочить категории по частоте:"
   ]
  },
  {
   "cell_type": "code",
   "execution_count": 30,
   "metadata": {},
   "outputs": [
    {
     "data": {
      "image/png": "[encoded data removed]",
      "text/plain": [
       "<Figure size 432x288 with 1 Axes>"
      ]
     },
     "metadata": {
      "needs_background": "light"
     },
     "output_type": "display_data"
    }
   ],
   "source": [
    "mpg_manuf_grouped.sort_values().plot(kind='barh');"
   ]
  },
  {
   "cell_type": "markdown",
   "metadata": {},
   "source": [
    "В Matplotlib сначала придется посчитать частоты, а затем уже их визуализировать:"
   ]
  },
  {
   "cell_type": "code",
   "execution_count": 36,
   "metadata": {},
   "outputs": [
    {
     "data": {
      "text/html": [
       "<div>\n",
       "<style scoped>\n",
       "    .dataframe tbody tr th:only-of-type {\n",
       "        vertical-align: middle;\n",
       "    }\n",
       "\n",
       "    .dataframe tbody tr th {\n",
       "        vertical-align: top;\n",
       "    }\n",
       "\n",
       "    .dataframe thead th {\n",
       "        text-align: right;\n",
       "    }\n",
       "</style>\n",
       "<table border=\"1\" class=\"dataframe\">\n",
       "  <thead>\n",
       "    <tr style=\"text-align: right;\">\n",
       "      <th></th>\n",
       "      <th>manufacturer</th>\n",
       "      <th>model</th>\n",
       "      <th>displ</th>\n",
       "      <th>year</th>\n",
       "      <th>cyl</th>\n",
       "      <th>trans</th>\n",
       "      <th>drv</th>\n",
       "      <th>cty</th>\n",
       "      <th>hwy</th>\n",
       "      <th>fl</th>\n",
       "      <th>class</th>\n",
       "    </tr>\n",
       "  </thead>\n",
       "  <tbody>\n",
       "    <tr>\n",
       "      <th>8</th>\n",
       "      <td>lincoln</td>\n",
       "      <td>3</td>\n",
       "      <td>3</td>\n",
       "      <td>3</td>\n",
       "      <td>3</td>\n",
       "      <td>3</td>\n",
       "      <td>3</td>\n",
       "      <td>3</td>\n",
       "      <td>3</td>\n",
       "      <td>3</td>\n",
       "      <td>3</td>\n",
       "    </tr>\n",
       "    <tr>\n",
       "      <th>7</th>\n",
       "      <td>land rover</td>\n",
       "      <td>4</td>\n",
       "      <td>4</td>\n",
       "      <td>4</td>\n",
       "      <td>4</td>\n",
       "      <td>4</td>\n",
       "      <td>4</td>\n",
       "      <td>4</td>\n",
       "      <td>4</td>\n",
       "      <td>4</td>\n",
       "      <td>4</td>\n",
       "    </tr>\n",
       "    <tr>\n",
       "      <th>9</th>\n",
       "      <td>mercury</td>\n",
       "      <td>4</td>\n",
       "      <td>4</td>\n",
       "      <td>4</td>\n",
       "      <td>4</td>\n",
       "      <td>4</td>\n",
       "      <td>4</td>\n",
       "      <td>4</td>\n",
       "      <td>4</td>\n",
       "      <td>4</td>\n",
       "      <td>4</td>\n",
       "    </tr>\n",
       "    <tr>\n",
       "      <th>11</th>\n",
       "      <td>pontiac</td>\n",
       "      <td>5</td>\n",
       "      <td>5</td>\n",
       "      <td>5</td>\n",
       "      <td>5</td>\n",
       "      <td>5</td>\n",
       "      <td>5</td>\n",
       "      <td>5</td>\n",
       "      <td>5</td>\n",
       "      <td>5</td>\n",
       "      <td>5</td>\n",
       "    </tr>\n",
       "    <tr>\n",
       "      <th>6</th>\n",
       "      <td>jeep</td>\n",
       "      <td>8</td>\n",
       "      <td>8</td>\n",
       "      <td>8</td>\n",
       "      <td>8</td>\n",
       "      <td>8</td>\n",
       "      <td>8</td>\n",
       "      <td>8</td>\n",
       "      <td>8</td>\n",
       "      <td>8</td>\n",
       "      <td>8</td>\n",
       "    </tr>\n",
       "    <tr>\n",
       "      <th>4</th>\n",
       "      <td>honda</td>\n",
       "      <td>9</td>\n",
       "      <td>9</td>\n",
       "      <td>9</td>\n",
       "      <td>9</td>\n",
       "      <td>9</td>\n",
       "      <td>9</td>\n",
       "      <td>9</td>\n",
       "      <td>9</td>\n",
       "      <td>9</td>\n",
       "      <td>9</td>\n",
       "    </tr>\n",
       "    <tr>\n",
       "      <th>10</th>\n",
       "      <td>nissan</td>\n",
       "      <td>13</td>\n",
       "      <td>13</td>\n",
       "      <td>13</td>\n",
       "      <td>13</td>\n",
       "      <td>13</td>\n",
       "      <td>13</td>\n",
       "      <td>13</td>\n",
       "      <td>13</td>\n",
       "      <td>13</td>\n",
       "      <td>13</td>\n",
       "    </tr>\n",
       "    <tr>\n",
       "      <th>5</th>\n",
       "      <td>hyundai</td>\n",
       "      <td>14</td>\n",
       "      <td>14</td>\n",
       "      <td>14</td>\n",
       "      <td>14</td>\n",
       "      <td>14</td>\n",
       "      <td>14</td>\n",
       "      <td>14</td>\n",
       "      <td>14</td>\n",
       "      <td>14</td>\n",
       "      <td>14</td>\n",
       "    </tr>\n",
       "    <tr>\n",
       "      <th>12</th>\n",
       "      <td>subaru</td>\n",
       "      <td>14</td>\n",
       "      <td>14</td>\n",
       "      <td>14</td>\n",
       "      <td>14</td>\n",
       "      <td>14</td>\n",
       "      <td>14</td>\n",
       "      <td>14</td>\n",
       "      <td>14</td>\n",
       "      <td>14</td>\n",
       "      <td>14</td>\n",
       "    </tr>\n",
       "    <tr>\n",
       "      <th>0</th>\n",
       "      <td>audi</td>\n",
       "      <td>18</td>\n",
       "      <td>18</td>\n",
       "      <td>18</td>\n",
       "      <td>18</td>\n",
       "      <td>18</td>\n",
       "      <td>18</td>\n",
       "      <td>18</td>\n",
       "      <td>18</td>\n",
       "      <td>18</td>\n",
       "      <td>18</td>\n",
       "    </tr>\n",
       "    <tr>\n",
       "      <th>1</th>\n",
       "      <td>chevrolet</td>\n",
       "      <td>19</td>\n",
       "      <td>19</td>\n",
       "      <td>19</td>\n",
       "      <td>19</td>\n",
       "      <td>19</td>\n",
       "      <td>19</td>\n",
       "      <td>19</td>\n",
       "      <td>19</td>\n",
       "      <td>19</td>\n",
       "      <td>19</td>\n",
       "    </tr>\n",
       "    <tr>\n",
       "      <th>3</th>\n",
       "      <td>ford</td>\n",
       "      <td>25</td>\n",
       "      <td>25</td>\n",
       "      <td>25</td>\n",
       "      <td>25</td>\n",
       "      <td>25</td>\n",
       "      <td>25</td>\n",
       "      <td>25</td>\n",
       "      <td>25</td>\n",
       "      <td>25</td>\n",
       "      <td>25</td>\n",
       "    </tr>\n",
       "    <tr>\n",
       "      <th>14</th>\n",
       "      <td>volkswagen</td>\n",
       "      <td>27</td>\n",
       "      <td>27</td>\n",
       "      <td>27</td>\n",
       "      <td>27</td>\n",
       "      <td>27</td>\n",
       "      <td>27</td>\n",
       "      <td>27</td>\n",
       "      <td>27</td>\n",
       "      <td>27</td>\n",
       "      <td>27</td>\n",
       "    </tr>\n",
       "    <tr>\n",
       "      <th>13</th>\n",
       "      <td>toyota</td>\n",
       "      <td>34</td>\n",
       "      <td>34</td>\n",
       "      <td>34</td>\n",
       "      <td>34</td>\n",
       "      <td>34</td>\n",
       "      <td>34</td>\n",
       "      <td>34</td>\n",
       "      <td>34</td>\n",
       "      <td>34</td>\n",
       "      <td>34</td>\n",
       "    </tr>\n",
       "    <tr>\n",
       "      <th>2</th>\n",
       "      <td>dodge</td>\n",
       "      <td>37</td>\n",
       "      <td>37</td>\n",
       "      <td>37</td>\n",
       "      <td>37</td>\n",
       "      <td>37</td>\n",
       "      <td>37</td>\n",
       "      <td>37</td>\n",
       "      <td>37</td>\n",
       "      <td>37</td>\n",
       "      <td>37</td>\n",
       "    </tr>\n",
       "  </tbody>\n",
       "</table>\n",
       "</div>"
      ],
      "text/plain": [
       "   manufacturer  model  displ  year  cyl  trans  drv  cty  hwy  fl  class\n",
       "8       lincoln      3      3     3    3      3    3    3    3   3      3\n",
       "7    land rover      4      4     4    4      4    4    4    4   4      4\n",
       "9       mercury      4      4     4    4      4    4    4    4   4      4\n",
       "11      pontiac      5      5     5    5      5    5    5    5   5      5\n",
       "6          jeep      8      8     8    8      8    8    8    8   8      8\n",
       "4         honda      9      9     9    9      9    9    9    9   9      9\n",
       "10       nissan     13     13    13   13     13   13   13   13  13     13\n",
       "5       hyundai     14     14    14   14     14   14   14   14  14     14\n",
       "12       subaru     14     14    14   14     14   14   14   14  14     14\n",
       "0          audi     18     18    18   18     18   18   18   18  18     18\n",
       "1     chevrolet     19     19    19   19     19   19   19   19  19     19\n",
       "3          ford     25     25    25   25     25   25   25   25  25     25\n",
       "14   volkswagen     27     27    27   27     27   27   27   27  27     27\n",
       "13       toyota     34     34    34   34     34   34   34   34  34     34\n",
       "2         dodge     37     37    37   37     37   37   37   37  37     37"
      ]
     },
     "execution_count": 36,
     "metadata": {},
     "output_type": "execute_result"
    }
   ],
   "source": [
    "mpg_manuf_counts = mpg.groupby('manufacturer', as_index=False).count().sort_values('model')\n",
    "mpg_manuf_counts"
   ]
  },
  {
   "cell_type": "code",
   "execution_count": 37,
   "metadata": {},
   "outputs": [
    {
     "data": {
      "image/png": "[encoded data removed]",
      "text/plain": [
       "<Figure size 432x288 with 1 Axes>"
      ]
     },
     "metadata": {
      "needs_background": "light"
     },
     "output_type": "display_data"
    }
   ],
   "source": [
    "plt.barh(y='manufacturer', width='model', data=mpg_manuf_counts);"
   ]
  },
  {
   "cell_type": "markdown",
   "metadata": {},
   "source": [
    "В seaborn функция для построения диаграммы автоматически подсчитывает частоты:"
   ]
  },
  {
   "cell_type": "code",
   "execution_count": 33,
   "metadata": {},
   "outputs": [
    {
     "data": {
      "image/png": "[encoded data removed]",
      "text/plain": [
       "<Figure size 432x288 with 1 Axes>"
      ]
     },
     "metadata": {
      "needs_background": "light"
     },
     "output_type": "display_data"
    }
   ],
   "source": [
    "sns.countplot(data=mpg, y='manufacturer',\n",
    "              color='lightskyblue');"
   ]
  },
  {
   "cell_type": "markdown",
   "metadata": {},
   "source": [
    "Однако, если мы хотим построить рейтинг, то статистику для сортировки столбцов все же придется посчитать:"
   ]
  },
  {
   "cell_type": "code",
   "execution_count": 34,
   "metadata": {},
   "outputs": [
    {
     "data": {
      "image/png": "[encoded data removed]",
      "text/plain": [
       "<Figure size 432x288 with 1 Axes>"
      ]
     },
     "metadata": {
      "needs_background": "light"
     },
     "output_type": "display_data"
    }
   ],
   "source": [
    "sns.countplot(data=mpg, y='manufacturer',\n",
    "              color='lightskyblue',\n",
    "              order=mpg['manufacturer'].value_counts().index);"
   ]
  }
 ],
 "metadata": {
  "kernelspec": {
   "display_name": "Python 3",
   "language": "python",
   "name": "python3"
  },
  "language_info": {
   "codemirror_mode": {
    "name": "ipython",
    "version": 3
   },
   "file_extension": ".py",
   "mimetype": "text/x-python",
   "name": "python",
   "nbconvert_exporter": "python",
   "pygments_lexer": "ipython3",
   "version": "3.8.3"
  }
 },
 "nbformat": 4,
 "nbformat_minor": 4
}
